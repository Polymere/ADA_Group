{
 "cells": [
  {
   "cell_type": "markdown",
   "metadata": {},
   "source": [
    "# Data import\n",
    "\n"
   ]
  },
  {
   "cell_type": "code",
   "execution_count": 5,
   "metadata": {},
   "outputs": [],
   "source": [
    "import pandas as pd\n",
    "import numpy as np\n",
    "import seaborn as sns\n",
    "from pyspark import RDD\n",
    "from pyspark import SparkContext\n",
    "sc = SparkContext(appName='notebook')\n",
    "%load_ext autoreload\n",
    "%autoreload 2\n",
    "import src.correlations as correlations\n",
    "import src.analysis_functions as analysis_functions\n",
    "import src.graphing_functions as graphing_functions\n",
    "import src.pitch_analysis as pitch_analysis"
   ]
  },
  {
   "cell_type": "code",
   "execution_count": 7,
   "metadata": {},
   "outputs": [],
   "source": [
    "DATA_DIR = 'data/'\n",
    "\n",
    "music_brainz_rdd = sc.pickleFile(DATA_DIR + 'musicbrainz-songs')\n",
    "analysis_songs_rdd = sc.pickleFile(DATA_DIR + 'analysis-songs')\n",
    "metadata_songs_rdd = sc.pickleFile(DATA_DIR + 'metadata-songs')\n",
    "analysis_segments_timbre = sc.pickleFile(DATA_DIR + 'analysis-segments_timbre')\n",
    "analysis_segments_pitch = sc.pickleFile(DATA_DIR + 'analysis-segments_pitches')"
   ]
  },
  {
   "cell_type": "markdown",
   "metadata": {},
   "source": [
    "# Data analysis\n",
    "In order to get a better grasp of the characteristics of a summer hit, we order our songs realease mont and year, and compare the features between:\n",
    "- The summer songs (between May and August) and the other songs of a same year\n",
    "- The summer songs of each year\n",
    "\n",
    "The considered features would be :\n",
    "\n",
    "__analysis-song__\n",
    "\n",
    "- danceability\n",
    "- duration\n",
    "- energy\n",
    "- key\n",
    "- loudness\n",
    "- mode (Maj/min)\n",
    "- tempo\n",
    "- time signature (beats per measure)\n",
    "- pitch analysis\n",
    "\n",
    "__other files__\n",
    "- artiste longitude/latitude\n",
    "- lyrics (sentiment analysis ?)\n",
    "- language\n",
    "- artist hotness\n",
    "- genre (other dataset ? )\n",
    "\n",
    "The success of each song will be evaluated with the song hotness feature and its ranking in the billboard ranking of summer hits \n",
    "\n",
    "https://www.billboard.com/articles/news/513524/summer-songs-1985-present-top-10-tunes-each-summer-listen\n",
    "\n",
    "http://docs.7digital.com/#standard-response-objects_Release\n"
   ]
  },
  {
   "cell_type": "markdown",
   "metadata": {
    "collapsed": true
   },
   "source": [
    "# Feature overview\n",
    "From the Millonsong documentation, we found that the tracks had been chosen amongst the most \"familiar\" artists according to The Echo Nest, and some extreme songs according to the features defined by The Echo Nest. To get a grasp of these features, we will plot them by year for the subset.\n",
    "VIOLIN PLOT"
   ]
  },
  {
   "cell_type": "code",
   "execution_count": 3,
   "metadata": {
    "collapsed": true
   },
   "outputs": [],
   "source": [
    "def plot_feature_by_year(data_feature,name_feature):\n",
    "    #split between hotness >0.6 (or add column ?\n",
    "    sns.set(style=\"whitegrid\", palette=\"pastel\", color_codes=True)\n",
    "\n",
    "    # Load the example tips dataset\n",
    "    tips = sns.load_dataset(\"tips\")\n",
    "\n",
    "    # Draw a nested violinplot and split the violins for easier comparison\n",
    "    sns.violinplot(x=\"Year\", y=name_feature, hue=\"hotness\", data=data_feature, split=True,\n",
    "                   inner=\"quart\", palette={\"h>0.6\": \"b\", \"total\": \"y\"})\n",
    "    sns.despine(left=True)\n",
    "    "
   ]
  },
  {
   "cell_type": "markdown",
   "metadata": {},
   "source": [
    "# Loading and Managing the data\n",
    "With 280Go of data, and knowing the cluster has 252Go of ram, it is clear we cannot load the whole dataset in one RDD. Even if the RDD has a more compressed representation than the original data, some processing space is also needed. We decided to use a column store style approach. The h5py files each contain the following elements:\n",
    "\n",
    "* analysis.bars_confidence\n",
    "* analysis.bars_start\n",
    "* analysis.beats_confidence\n",
    "* analysis.beats_start\n",
    "* analysis.sections_confidence\n",
    "* analysis.sections_start\n",
    "* analysis.segments_confidence\n",
    "* analysis.segments_loudness_max\n",
    "* analysis.segments_loudness_max_time\n",
    "* analysis.segments_loudness_start\n",
    "* analysis.segments_pitches\n",
    "* analysis.segments_start\n",
    "* analysis.segments_timbre\n",
    "* analysis.songs\n",
    "* analysis.tatums_confidence\n",
    "* analysis.tatums_start\n",
    "* metadata.artist_terms\n",
    "* metadata.artist_terms_freq\n",
    "* metadata.artist_terms_weight\n",
    "* metadata.similar_artists\n",
    "* metadata.songs\n",
    "* musicbrainz.artist_mbtags\n",
    "* musicbrainz.artist_mbtags_count\n",
    "* musicbrainz.songs\n",
    "\n",
    "We extracted each element separately and stored them in keyed RDDs (file_id, data). The two biggest elements are `analysis.segments_pitches` and `analysis.segments_timbre`. They each take 26% of the data size, so the maximum size an RDD can take is 72Go of ram space. Now we can load each RDD individually. If we need multiple elements simultaniously we can join the RDDs, and if the joined RDDs are two big for the cluster we can do some sampling to reduce the size. Loading each element individually is a lot faster now too. This operation is done in the script `src/extract_rdds_from_data.py`. We have only used the script to work on the data locally yet, but as soon as the whole dataset is uncompressed, we will extract the RDDs from the dataset."
   ]
  },
  {
   "cell_type": "markdown",
   "metadata": {},
   "source": [
    "# Pitch analysis\n",
    "In pitch analysis, we are trying to extract chords, and chord sequences. The pitches are represented as sequence of [chroma features](https://en.wikipedia.org/wiki/Chroma_feature), so it is a n by 12 matrix.\n",
    "\n",
    "We start the pitch analysis by looking at the histograms of all the values in the pitch anlysis:"
   ]
  },
  {
   "cell_type": "code",
   "execution_count": 8,
   "metadata": {},
   "outputs": [
    {
     "data": {
      "image/png": "[encoded data removed]",
      "text/plain": [
       "<matplotlib.figure.Figure at 0x125b0240>"
      ]
     },
     "metadata": {},
     "output_type": "display_data"
    }
   ],
   "source": [
    "graphing_functions.print_histogram(analysis_functions.numeric_array_or_matrix_histogram(analysis_segments_pitch)[2], title=\"Histogram of the pitch values\")"
   ]
  },
  {
   "cell_type": "markdown",
   "metadata": {},
   "source": [
    "The histogram gives us a visualization of the kind of values to expect when analysing the pitch. The first approach to analysing the pitch is recovering the most popular chrom features. First we get an rdd of 'hot' songs:"
   ]
  },
  {
   "cell_type": "code",
   "execution_count": 9,
   "metadata": {},
   "outputs": [
    {
     "data": {
      "image/png": "[encoded data removed]",
      "text/plain": [
       "<matplotlib.figure.Figure at 0x12ff11d0>"
      ]
     },
     "metadata": {},
     "output_type": "display_data"
    }
   ],
   "source": [
    "hotness = metadata_songs_rdd.map(lambda x: (x[0], x[1]['song_hotttnesss'][0])).filter(lambda x: analysis_functions.is_numeric(x[1]))\n",
    "graphing_functions.print_histogram(analysis_functions.get_histogram(hotness.map(lambda x: x[1]))[2], title=\"Histogram of hotness values\")"
   ]
  },
  {
   "cell_type": "markdown",
   "metadata": {},
   "source": [
    "Looking at the hotness histogram, we can take song for hotness values above 0.5. We don't want to be too strict on the hotness values, or we will not have enough data to work with latter (on the subset we are left with 1713 songs). Hotness value 0 is an indication that the hotness was not included in the data set."
   ]
  },
  {
   "cell_type": "code",
   "execution_count": 10,
   "metadata": {},
   "outputs": [
    {
     "data": {
      "text/plain": [
       "1713"
      ]
     },
     "execution_count": 10,
     "metadata": {},
     "output_type": "execute_result"
    }
   ],
   "source": [
    "most_hot_pitches = analysis_segments_pitch.join(hotness.filter(lambda x : x[1] > 0.5)).map(lambda x: (x[0], x[1][0]))\n",
    "most_hot_pitches.count()"
   ]
  },
  {
   "cell_type": "markdown",
   "metadata": {},
   "source": [
    "For all chroma features we apply a threshold telling us if the pitch should be considered as a note, or not. Looking at histogram of pitch values, 0.7 seems like a raesonable value to use. Now for each song, we extract the three most present chroma feature (with the threshold applied), and then for all the songs, we extract the top chroma features. Bellow, 1's represent where notes are. We get:"
   ]
  },
  {
   "cell_type": "code",
   "execution_count": 11,
   "metadata": {},
   "outputs": [
    {
     "name": "stdout",
     "output_type": "stream",
     "text": [
      "Sequence 0 with 557 occurrences\n",
      "(1 ,0 ,0 ,0 ,0 ,0 ,0 ,0 ,0 ,0 ,0 ,0)\n",
      "()\n",
      "Sequence 1 with 546 occurrences\n",
      "(0 ,1 ,0 ,0 ,0 ,0 ,0 ,0 ,0 ,0 ,0 ,0)\n",
      "()\n",
      "Sequence 2 with 433 occurrences\n",
      "(0 ,0 ,0 ,0 ,0 ,0 ,0 ,1 ,0 ,0 ,0 ,0)\n",
      "()\n",
      "Sequence 3 with 412 occurrences\n",
      "(0 ,0 ,1 ,0 ,0 ,0 ,0 ,0 ,0 ,0 ,0 ,0)\n",
      "()\n",
      "Sequence 4 with 383 occurrences\n",
      "(0 ,0 ,0 ,0 ,0 ,0 ,0 ,0 ,0 ,1 ,0 ,0)\n",
      "()\n",
      "Sequence 5 with 372 occurrences\n",
      "(1 ,1 ,0 ,0 ,0 ,0 ,0 ,0 ,0 ,0 ,0 ,0)\n",
      "()\n",
      "Sequence 6 with 356 occurrences\n",
      "(0 ,0 ,0 ,0 ,1 ,0 ,0 ,0 ,0 ,0 ,0 ,0)\n",
      "()\n",
      "Sequence 7 with 339 occurrences\n",
      "(0 ,0 ,0 ,0 ,0 ,0 ,0 ,0 ,0 ,0 ,0 ,1)\n",
      "()\n",
      "Sequence 8 with 263 occurrences\n",
      "(0 ,0 ,0 ,0 ,0 ,1 ,0 ,0 ,0 ,0 ,0 ,0)\n",
      "()\n",
      "Sequence 9 with 225 occurrences\n",
      "(0 ,0 ,0 ,0 ,0 ,0 ,1 ,0 ,0 ,0 ,0 ,0)\n",
      "()\n"
     ]
    }
   ],
   "source": [
    "pitch_analysis.pretty_print_sequence_list(pitch_analysis.get_most_popular_pitches_from_rdd(most_hot_pitches, threshold=0.7, use_chord_structure=False))"
   ]
  },
  {
   "cell_type": "markdown",
   "metadata": {},
   "source": [
    "Oouppss, we notice that the chroma features that contain only one single note appear multiple times. We are not interested in what the absolute note is, but rather what kind of chords we can have. For this reason, we apply an extract filter that tries to offset the notes so that chords that are just offsets of one another are considered as the same:"
   ]
  },
  {
   "cell_type": "code",
   "execution_count": 12,
   "metadata": {},
   "outputs": [
    {
     "name": "stdout",
     "output_type": "stream",
     "text": [
      "Sequence 0 with 1712 occurrences\n",
      "(1 ,0 ,0 ,0 ,0 ,0 ,0 ,0 ,0 ,0 ,0 ,0)\n",
      "()\n",
      "Sequence 1 with 1590 occurrences\n",
      "(1 ,1 ,0 ,0 ,0 ,0 ,0 ,0 ,0 ,0 ,0 ,0)\n",
      "()\n",
      "Sequence 2 with 569 occurrences\n",
      "(1 ,0 ,0 ,0 ,0 ,1 ,0 ,0 ,0 ,0 ,0 ,0)\n",
      "()\n",
      "Sequence 3 with 462 occurrences\n",
      "(1 ,1 ,1 ,0 ,0 ,0 ,0 ,0 ,0 ,0 ,0 ,0)\n",
      "()\n",
      "Sequence 4 with 392 occurrences\n",
      "(1 ,0 ,0 ,0 ,0 ,0 ,0 ,1 ,0 ,0 ,0 ,0)\n",
      "()\n",
      "Sequence 5 with 133 occurrences\n",
      "(1 ,1 ,1 ,1 ,0 ,0 ,0 ,0 ,0 ,0 ,0 ,0)\n",
      "()\n",
      "Sequence 6 with 47 occurrences\n",
      "(1 ,0 ,0 ,0 ,0 ,0 ,0 ,0 ,0 ,0 ,1 ,0)\n",
      "()\n",
      "Sequence 7 with 43 occurrences\n",
      "(1 ,0 ,0 ,0 ,1 ,0 ,0 ,0 ,0 ,0 ,0 ,0)\n",
      "()\n",
      "Sequence 8 with 42 occurrences\n",
      "(1 ,0 ,1 ,0 ,0 ,0 ,0 ,0 ,0 ,0 ,0 ,0)\n",
      "()\n",
      "Sequence 9 with 41 occurrences\n",
      "(1 ,0 ,0 ,1 ,0 ,0 ,0 ,0 ,0 ,0 ,0 ,0)\n",
      "()\n"
     ]
    }
   ],
   "source": [
    "pitch_analysis.pretty_print_sequence_list(pitch_analysis.get_most_popular_pitches_from_rdd(most_hot_pitches, threshold=0.7, use_chord_structure=True))"
   ]
  },
  {
   "cell_type": "markdown",
   "metadata": {},
   "source": [
    "Sequence 0 is a simple note, nothing surprising, many songs can hold a single note. Sequence 1,3,5 would sound terrible on a instrument, this might be due to the threshold not being set properly. Sequence 2 is tonic - 5 chord, sequence 4 is the seventh and sequence 7 is the major chord.\n",
    "\n",
    "Now we do the same opperation but by considering consecutive chroma features, in hopes of finding popular song constructions:"
   ]
  },
  {
   "cell_type": "code",
   "execution_count": 13,
   "metadata": {},
   "outputs": [
    {
     "name": "stdout",
     "output_type": "stream",
     "text": [
      "Sequence 0 with 749 occurrences\n",
      "(1 ,0 ,0 ,0 ,0 ,0 ,0 ,0 ,0 ,0 ,0 ,0)\n",
      "(1 ,0 ,0 ,0 ,0 ,0 ,0 ,0 ,0 ,0 ,0 ,0)\n",
      "(1 ,0 ,0 ,0 ,0 ,0 ,0 ,0 ,0 ,0 ,0 ,0)\n",
      "(1 ,0 ,0 ,0 ,0 ,0 ,0 ,0 ,0 ,0 ,0 ,0)\n",
      "(1 ,0 ,0 ,0 ,0 ,0 ,0 ,0 ,0 ,0 ,0 ,0)\n",
      "(1 ,0 ,0 ,0 ,0 ,0 ,0 ,0 ,0 ,0 ,0 ,0)\n",
      "(1 ,0 ,0 ,0 ,0 ,0 ,0 ,0 ,0 ,0 ,0 ,0)\n",
      "(1 ,0 ,0 ,0 ,0 ,0 ,0 ,0 ,0 ,0 ,0 ,0)\n",
      "()\n",
      "Sequence 1 with 35 occurrences\n",
      "(1 ,0 ,0 ,0 ,0 ,0 ,0 ,0 ,0 ,0 ,0 ,0)\n",
      "(1 ,0 ,0 ,0 ,0 ,0 ,0 ,0 ,0 ,0 ,0 ,0)\n",
      "(1 ,0 ,0 ,0 ,0 ,0 ,0 ,0 ,0 ,0 ,0 ,0)\n",
      "(1 ,0 ,0 ,0 ,0 ,0 ,0 ,0 ,0 ,0 ,0 ,0)\n",
      "(1 ,0 ,0 ,0 ,0 ,0 ,0 ,0 ,0 ,0 ,0 ,0)\n",
      "(1 ,0 ,0 ,0 ,0 ,0 ,0 ,0 ,0 ,0 ,0 ,0)\n",
      "(1 ,0 ,0 ,0 ,0 ,0 ,0 ,0 ,0 ,0 ,0 ,0)\n",
      "(0 ,0 ,0 ,0 ,0 ,0 ,0 ,1 ,0 ,0 ,0 ,0)\n",
      "()\n",
      "Sequence 2 with 32 occurrences\n",
      "(1 ,0 ,0 ,0 ,0 ,0 ,0 ,0 ,0 ,0 ,0 ,0)\n",
      "(1 ,0 ,0 ,0 ,0 ,0 ,0 ,0 ,0 ,0 ,0 ,0)\n",
      "(1 ,0 ,0 ,0 ,0 ,0 ,0 ,0 ,0 ,0 ,0 ,0)\n",
      "(1 ,0 ,0 ,0 ,0 ,0 ,0 ,0 ,0 ,0 ,0 ,0)\n",
      "(1 ,0 ,0 ,0 ,0 ,0 ,0 ,0 ,0 ,0 ,0 ,0)\n",
      "(1 ,0 ,0 ,0 ,0 ,0 ,0 ,0 ,0 ,0 ,0 ,0)\n",
      "(1 ,0 ,0 ,0 ,0 ,0 ,0 ,0 ,0 ,0 ,0 ,0)\n",
      "(0 ,0 ,1 ,0 ,0 ,0 ,0 ,0 ,0 ,0 ,0 ,0)\n",
      "()\n",
      "Sequence 3 with 31 occurrences\n",
      "(1 ,0 ,0 ,0 ,0 ,0 ,0 ,0 ,0 ,0 ,0 ,0)\n",
      "(0 ,0 ,0 ,0 ,0 ,1 ,0 ,0 ,0 ,0 ,0 ,0)\n",
      "(0 ,0 ,0 ,0 ,0 ,1 ,0 ,0 ,0 ,0 ,0 ,0)\n",
      "(0 ,0 ,0 ,0 ,0 ,1 ,0 ,0 ,0 ,0 ,0 ,0)\n",
      "(0 ,0 ,0 ,0 ,0 ,1 ,0 ,0 ,0 ,0 ,0 ,0)\n",
      "(0 ,0 ,0 ,0 ,0 ,1 ,0 ,0 ,0 ,0 ,0 ,0)\n",
      "(0 ,0 ,0 ,0 ,0 ,1 ,0 ,0 ,0 ,0 ,0 ,0)\n",
      "(0 ,0 ,0 ,0 ,0 ,1 ,0 ,0 ,0 ,0 ,0 ,0)\n",
      "()\n",
      "Sequence 4 with 21 occurrences\n",
      "(1 ,0 ,0 ,0 ,0 ,0 ,0 ,0 ,0 ,0 ,0 ,0)\n",
      "(1 ,0 ,0 ,0 ,0 ,0 ,0 ,0 ,0 ,0 ,0 ,0)\n",
      "(1 ,0 ,0 ,0 ,0 ,0 ,0 ,0 ,0 ,0 ,0 ,0)\n",
      "(1 ,0 ,0 ,0 ,0 ,0 ,0 ,0 ,0 ,0 ,0 ,0)\n",
      "(0 ,0 ,1 ,0 ,0 ,0 ,0 ,0 ,0 ,0 ,0 ,0)\n",
      "(0 ,0 ,1 ,0 ,0 ,0 ,0 ,0 ,0 ,0 ,0 ,0)\n",
      "(0 ,0 ,1 ,0 ,0 ,0 ,0 ,0 ,0 ,0 ,0 ,0)\n",
      "(0 ,0 ,1 ,0 ,0 ,0 ,0 ,0 ,0 ,0 ,0 ,0)\n",
      "()\n",
      "Sequence 5 with 20 occurrences\n",
      "(1 ,0 ,0 ,0 ,0 ,0 ,0 ,0 ,0 ,0 ,0 ,0)\n",
      "(0 ,0 ,0 ,0 ,0 ,0 ,0 ,1 ,0 ,0 ,0 ,0)\n",
      "(0 ,0 ,0 ,0 ,0 ,0 ,0 ,1 ,0 ,0 ,0 ,0)\n",
      "(0 ,0 ,0 ,0 ,0 ,0 ,0 ,1 ,0 ,0 ,0 ,0)\n",
      "(0 ,0 ,0 ,0 ,0 ,0 ,0 ,1 ,0 ,0 ,0 ,0)\n",
      "(0 ,0 ,0 ,0 ,0 ,0 ,0 ,1 ,0 ,0 ,0 ,0)\n",
      "(0 ,0 ,0 ,0 ,0 ,0 ,0 ,1 ,0 ,0 ,0 ,0)\n",
      "(0 ,0 ,0 ,0 ,0 ,0 ,0 ,1 ,0 ,0 ,0 ,0)\n",
      "()\n",
      "Sequence 6 with 20 occurrences\n",
      "(1 ,0 ,0 ,0 ,0 ,0 ,0 ,0 ,0 ,0 ,0 ,0)\n",
      "(1 ,0 ,0 ,0 ,0 ,0 ,0 ,0 ,0 ,0 ,0 ,0)\n",
      "(1 ,0 ,0 ,0 ,0 ,0 ,0 ,0 ,0 ,0 ,0 ,0)\n",
      "(1 ,0 ,0 ,0 ,0 ,0 ,0 ,0 ,0 ,0 ,0 ,0)\n",
      "(1 ,0 ,0 ,0 ,0 ,0 ,0 ,0 ,0 ,0 ,0 ,0)\n",
      "(1 ,0 ,0 ,0 ,0 ,0 ,0 ,0 ,0 ,0 ,0 ,0)\n",
      "(0 ,0 ,0 ,0 ,0 ,0 ,0 ,1 ,0 ,0 ,0 ,0)\n",
      "(0 ,0 ,0 ,0 ,0 ,0 ,0 ,1 ,0 ,0 ,0 ,0)\n",
      "()\n",
      "Sequence 7 with 18 occurrences\n",
      "(1 ,0 ,0 ,0 ,0 ,0 ,0 ,0 ,0 ,0 ,0 ,0)\n",
      "(1 ,0 ,0 ,0 ,0 ,0 ,0 ,0 ,0 ,0 ,0 ,0)\n",
      "(1 ,0 ,0 ,0 ,0 ,0 ,0 ,0 ,0 ,0 ,0 ,0)\n",
      "(1 ,0 ,0 ,0 ,0 ,0 ,0 ,0 ,0 ,0 ,0 ,0)\n",
      "(1 ,0 ,0 ,0 ,0 ,0 ,0 ,0 ,0 ,0 ,0 ,0)\n",
      "(1 ,0 ,0 ,0 ,0 ,0 ,0 ,0 ,0 ,0 ,0 ,0)\n",
      "(1 ,0 ,0 ,0 ,0 ,0 ,0 ,0 ,0 ,0 ,0 ,0)\n",
      "(1 ,1 ,0 ,0 ,0 ,0 ,0 ,0 ,0 ,0 ,0 ,0)\n",
      "()\n",
      "Sequence 8 with 17 occurrences\n",
      "(1 ,0 ,0 ,0 ,0 ,0 ,0 ,0 ,0 ,0 ,0 ,0)\n",
      "(1 ,0 ,0 ,0 ,0 ,0 ,0 ,0 ,0 ,0 ,0 ,0)\n",
      "(1 ,0 ,0 ,0 ,0 ,0 ,0 ,0 ,0 ,0 ,0 ,0)\n",
      "(1 ,0 ,0 ,0 ,0 ,0 ,0 ,0 ,0 ,0 ,0 ,0)\n",
      "(1 ,0 ,0 ,0 ,0 ,0 ,0 ,0 ,0 ,0 ,0 ,0)\n",
      "(1 ,0 ,0 ,0 ,0 ,0 ,0 ,0 ,0 ,0 ,0 ,0)\n",
      "(1 ,0 ,0 ,0 ,0 ,0 ,0 ,0 ,0 ,0 ,0 ,1)\n",
      "(1 ,0 ,0 ,0 ,0 ,0 ,0 ,0 ,0 ,0 ,0 ,0)\n",
      "()\n",
      "Sequence 9 with 17 occurrences\n",
      "(1 ,0 ,0 ,0 ,0 ,0 ,0 ,0 ,0 ,0 ,0 ,0)\n",
      "(1 ,0 ,0 ,0 ,0 ,0 ,0 ,0 ,0 ,0 ,0 ,0)\n",
      "(1 ,0 ,0 ,0 ,0 ,0 ,0 ,0 ,0 ,0 ,0 ,0)\n",
      "(1 ,0 ,0 ,0 ,0 ,0 ,0 ,0 ,0 ,0 ,0 ,0)\n",
      "(1 ,0 ,0 ,0 ,0 ,0 ,0 ,0 ,0 ,0 ,0 ,0)\n",
      "(0 ,0 ,0 ,0 ,0 ,0 ,0 ,0 ,0 ,0 ,1 ,0)\n",
      "(0 ,0 ,0 ,0 ,0 ,0 ,0 ,0 ,0 ,0 ,1 ,0)\n",
      "(0 ,0 ,0 ,0 ,0 ,0 ,0 ,0 ,0 ,0 ,1 ,0)\n",
      "()\n",
      "Sequence 10 with 16 occurrences\n",
      "(1 ,0 ,0 ,0 ,0 ,0 ,0 ,0 ,0 ,0 ,0 ,0)\n",
      "(1 ,0 ,0 ,0 ,0 ,0 ,0 ,0 ,0 ,0 ,0 ,0)\n",
      "(1 ,0 ,0 ,0 ,0 ,0 ,0 ,0 ,0 ,0 ,0 ,0)\n",
      "(1 ,0 ,0 ,0 ,0 ,0 ,0 ,0 ,0 ,0 ,0 ,0)\n",
      "(1 ,0 ,0 ,0 ,0 ,0 ,0 ,0 ,0 ,0 ,0 ,0)\n",
      "(1 ,0 ,0 ,0 ,0 ,0 ,0 ,0 ,0 ,0 ,0 ,0)\n",
      "(1 ,0 ,0 ,0 ,0 ,0 ,0 ,0 ,0 ,0 ,0 ,0)\n",
      "(0 ,0 ,0 ,0 ,0 ,0 ,0 ,0 ,0 ,0 ,1 ,0)\n",
      "()\n",
      "Sequence 11 with 16 occurrences\n",
      "(1 ,0 ,0 ,0 ,0 ,0 ,0 ,0 ,0 ,0 ,0 ,0)\n",
      "(1 ,0 ,0 ,0 ,0 ,0 ,0 ,0 ,0 ,0 ,0 ,0)\n",
      "(0 ,0 ,0 ,0 ,0 ,1 ,0 ,0 ,0 ,0 ,0 ,0)\n",
      "(0 ,0 ,0 ,0 ,0 ,1 ,0 ,0 ,0 ,0 ,0 ,0)\n",
      "(0 ,0 ,0 ,0 ,0 ,1 ,0 ,0 ,0 ,0 ,0 ,0)\n",
      "(0 ,0 ,0 ,0 ,0 ,1 ,0 ,0 ,0 ,0 ,0 ,0)\n",
      "(0 ,0 ,0 ,0 ,0 ,1 ,0 ,0 ,0 ,0 ,0 ,0)\n",
      "(0 ,0 ,0 ,0 ,0 ,1 ,0 ,0 ,0 ,0 ,0 ,0)\n",
      "()\n",
      "Sequence 12 with 15 occurrences\n",
      "(1 ,0 ,0 ,0 ,0 ,0 ,0 ,0 ,0 ,0 ,0 ,0)\n",
      "(1 ,0 ,0 ,0 ,0 ,0 ,0 ,0 ,0 ,0 ,0 ,0)\n",
      "(1 ,0 ,0 ,0 ,0 ,0 ,0 ,0 ,0 ,0 ,0 ,0)\n",
      "(1 ,0 ,0 ,0 ,0 ,0 ,0 ,0 ,0 ,0 ,0 ,0)\n",
      "(1 ,0 ,0 ,0 ,0 ,0 ,0 ,0 ,0 ,0 ,0 ,0)\n",
      "(0 ,0 ,1 ,0 ,0 ,0 ,0 ,0 ,0 ,0 ,0 ,0)\n",
      "(0 ,0 ,1 ,0 ,0 ,0 ,0 ,0 ,0 ,0 ,0 ,0)\n",
      "(0 ,0 ,1 ,0 ,0 ,0 ,0 ,0 ,0 ,0 ,0 ,0)\n",
      "()\n",
      "Sequence 13 with 15 occurrences\n",
      "(1 ,0 ,0 ,0 ,0 ,0 ,0 ,0 ,0 ,0 ,0 ,0)\n",
      "(1 ,0 ,0 ,0 ,0 ,0 ,0 ,0 ,0 ,0 ,0 ,0)\n",
      "(1 ,0 ,0 ,0 ,0 ,0 ,0 ,0 ,0 ,0 ,0 ,0)\n",
      "(1 ,0 ,0 ,0 ,0 ,0 ,0 ,0 ,0 ,0 ,0 ,0)\n",
      "(0 ,0 ,0 ,0 ,0 ,0 ,0 ,1 ,0 ,0 ,0 ,0)\n",
      "(1 ,0 ,0 ,0 ,0 ,0 ,0 ,0 ,0 ,0 ,0 ,0)\n",
      "(1 ,0 ,0 ,0 ,0 ,0 ,0 ,0 ,0 ,0 ,0 ,0)\n",
      "(1 ,0 ,0 ,0 ,0 ,0 ,0 ,0 ,0 ,0 ,0 ,0)\n",
      "()\n",
      "Sequence 14 with 15 occurrences\n",
      "(1 ,0 ,0 ,0 ,0 ,0 ,0 ,0 ,0 ,0 ,0 ,0)\n",
      "(1 ,0 ,0 ,0 ,0 ,0 ,0 ,0 ,0 ,0 ,0 ,0)\n",
      "(1 ,0 ,0 ,0 ,0 ,0 ,0 ,0 ,0 ,0 ,0 ,0)\n",
      "(1 ,0 ,0 ,0 ,0 ,0 ,0 ,0 ,0 ,0 ,0 ,0)\n",
      "(1 ,0 ,0 ,0 ,0 ,0 ,0 ,0 ,0 ,0 ,0 ,0)\n",
      "(1 ,0 ,0 ,0 ,0 ,0 ,0 ,0 ,0 ,0 ,0 ,0)\n",
      "(1 ,0 ,0 ,0 ,0 ,0 ,0 ,0 ,0 ,0 ,0 ,0)\n",
      "(0 ,0 ,0 ,0 ,0 ,0 ,0 ,0 ,0 ,0 ,0 ,1)\n",
      "()\n",
      "Sequence 15 with 15 occurrences\n",
      "(1 ,0 ,0 ,0 ,0 ,0 ,0 ,0 ,0 ,0 ,0 ,0)\n",
      "(1 ,0 ,0 ,0 ,0 ,0 ,0 ,0 ,0 ,0 ,0 ,0)\n",
      "(1 ,0 ,0 ,0 ,0 ,0 ,0 ,0 ,0 ,0 ,0 ,0)\n",
      "(0 ,0 ,0 ,0 ,0 ,1 ,0 ,0 ,0 ,0 ,0 ,0)\n",
      "(0 ,0 ,0 ,0 ,0 ,1 ,0 ,0 ,0 ,0 ,0 ,0)\n",
      "(0 ,0 ,0 ,0 ,0 ,1 ,0 ,0 ,0 ,0 ,0 ,0)\n",
      "(0 ,0 ,0 ,0 ,0 ,1 ,0 ,0 ,0 ,0 ,0 ,0)\n",
      "(0 ,0 ,0 ,0 ,0 ,1 ,0 ,0 ,0 ,0 ,0 ,0)\n",
      "()\n",
      "Sequence 16 with 14 occurrences\n",
      "(1 ,0 ,0 ,0 ,0 ,0 ,0 ,0 ,0 ,0 ,0 ,0)\n",
      "(1 ,0 ,0 ,0 ,0 ,0 ,0 ,0 ,0 ,0 ,0 ,0)\n",
      "(1 ,0 ,0 ,0 ,0 ,0 ,0 ,0 ,0 ,0 ,0 ,0)\n",
      "(1 ,0 ,0 ,0 ,0 ,0 ,0 ,0 ,0 ,0 ,0 ,0)\n",
      "(1 ,0 ,0 ,0 ,0 ,0 ,0 ,0 ,0 ,0 ,0 ,0)\n",
      "(1 ,0 ,0 ,0 ,0 ,0 ,0 ,1 ,0 ,0 ,0 ,0)\n",
      "(1 ,0 ,0 ,0 ,0 ,0 ,0 ,0 ,0 ,0 ,0 ,0)\n",
      "(1 ,0 ,0 ,0 ,0 ,0 ,0 ,0 ,0 ,0 ,0 ,0)\n",
      "()\n",
      "Sequence 17 with 14 occurrences\n",
      "(1 ,0 ,0 ,0 ,0 ,0 ,0 ,0 ,0 ,0 ,0 ,0)\n",
      "(1 ,0 ,0 ,0 ,0 ,0 ,0 ,0 ,0 ,0 ,0 ,0)\n",
      "(1 ,0 ,0 ,0 ,0 ,0 ,0 ,0 ,0 ,0 ,0 ,0)\n",
      "(0 ,0 ,0 ,0 ,0 ,0 ,0 ,0 ,0 ,0 ,0 ,1)\n",
      "(0 ,0 ,0 ,0 ,0 ,0 ,0 ,0 ,0 ,0 ,0 ,1)\n",
      "(0 ,0 ,0 ,0 ,0 ,0 ,0 ,0 ,0 ,0 ,0 ,1)\n",
      "(0 ,0 ,0 ,0 ,0 ,0 ,0 ,0 ,0 ,0 ,0 ,1)\n",
      "(0 ,0 ,0 ,0 ,0 ,0 ,0 ,0 ,0 ,0 ,0 ,1)\n",
      "()\n",
      "Sequence 18 with 14 occurrences\n",
      "(1 ,0 ,0 ,0 ,0 ,0 ,0 ,0 ,0 ,0 ,0 ,0)\n",
      "(1 ,0 ,0 ,0 ,0 ,0 ,0 ,0 ,0 ,0 ,0 ,0)\n",
      "(1 ,0 ,0 ,0 ,0 ,0 ,0 ,0 ,0 ,0 ,0 ,0)\n",
      "(1 ,0 ,0 ,0 ,0 ,0 ,0 ,0 ,0 ,0 ,0 ,0)\n",
      "(1 ,0 ,0 ,0 ,0 ,0 ,0 ,0 ,0 ,0 ,0 ,0)\n",
      "(0 ,0 ,0 ,0 ,0 ,0 ,0 ,1 ,0 ,0 ,0 ,0)\n",
      "(1 ,0 ,0 ,0 ,0 ,0 ,0 ,0 ,0 ,0 ,0 ,0)\n",
      "(1 ,0 ,0 ,0 ,0 ,0 ,0 ,0 ,0 ,0 ,0 ,0)\n",
      "()\n",
      "Sequence 19 with 13 occurrences\n",
      "(1 ,0 ,0 ,0 ,0 ,0 ,0 ,0 ,0 ,0 ,0 ,0)\n",
      "(1 ,0 ,0 ,0 ,0 ,0 ,0 ,0 ,0 ,0 ,0 ,0)\n",
      "(1 ,0 ,0 ,0 ,0 ,0 ,0 ,0 ,0 ,0 ,0 ,0)\n",
      "(0 ,0 ,0 ,0 ,0 ,0 ,0 ,1 ,0 ,0 ,0 ,0)\n",
      "(0 ,0 ,0 ,0 ,0 ,0 ,0 ,1 ,0 ,0 ,0 ,0)\n",
      "(0 ,0 ,0 ,0 ,0 ,0 ,0 ,1 ,0 ,0 ,0 ,0)\n",
      "(0 ,0 ,0 ,0 ,0 ,0 ,0 ,1 ,0 ,0 ,0 ,0)\n",
      "(0 ,0 ,0 ,0 ,0 ,0 ,0 ,1 ,0 ,0 ,0 ,0)\n",
      "()\n"
     ]
    }
   ],
   "source": [
    "pitch_analysis.pretty_print_sequence_list(\n",
    "    pitch_analysis.get_most_popular_pitches_sequence_from_rdd\\\n",
    "    (most_hot_pitches, 8, top=20, threshold=0.85, top_per_song=3)\n",
    ")"
   ]
  },
  {
   "cell_type": "markdown",
   "metadata": {},
   "source": [
    "This time we used 0.85 as threshold, as it gave better results than 0.7. No nice chord structure seems to be appearing. Supposedly, we should see the famous 4 chords that make most of the popular music. Either the data wasn't chosen correctly, or the processing still needs working on."
   ]
  }
 ],
 "metadata": {
  "kernelspec": {
   "display_name": "Python 2",
   "language": "python",
   "name": "python2"
  },
  "language_info": {
   "codemirror_mode": {
    "name": "ipython",
    "version": 2
   },
   "file_extension": ".py",
   "mimetype": "text/x-python",
   "name": "python",
   "nbconvert_exporter": "python",
   "pygments_lexer": "ipython2",
   "version": "2.7.14"
  }
 },
 "nbformat": 4,
 "nbformat_minor": 2
}
