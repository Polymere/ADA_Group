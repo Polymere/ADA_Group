{
 "cells": [
  {
   "cell_type": "markdown",
   "metadata": {},
   "source": [
    "# Milestone 3 : Predicting the next summer hit !\n",
    "__Write random BS about the project__\n",
    "\n",
    "## Must have\n",
    "\n",
    "- Extract and match billboard rankings __Parsing_test__\n",
    "- Extract artist tags and  __DONE in tags__\n",
    "- Extract popular pitches\n",
    "- Find language based on lyrics (words)\n",
    "- Most frequent words\n",
    "- Artist coords (if relevent)\n",
    "\n",
    "- Find relation between the songs/success/features by year \n",
    "- ML on the features\n",
    "\n",
    "- Do da report\n",
    "\n",
    "## Nice to have \n",
    "- Sentiment analysis on lyrics and find keywords for summer hit\n",
    "- Match sentiment with song feature (Sad lyrics == minor mode ? )\n"
   ]
  },
  {
   "cell_type": "code",
   "execution_count": null,
   "metadata": {
    "collapsed": true
   },
   "outputs": [],
   "source": []
  }
 ],
 "metadata": {
  "kernelspec": {
   "display_name": "Python 2",
   "language": "python",
   "name": "python2"
  },
  "language_info": {
   "codemirror_mode": {
    "name": "ipython",
    "version": 2
   },
   "file_extension": ".py",
   "mimetype": "text/x-python",
   "name": "python",
   "nbconvert_exporter": "python",
   "pygments_lexer": "ipython2",
   "version": "2.7.14"
  }
 },
 "nbformat": 4,
 "nbformat_minor": 2
}
