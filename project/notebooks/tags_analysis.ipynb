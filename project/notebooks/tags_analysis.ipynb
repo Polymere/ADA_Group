{
 "cells": [
  {
   "cell_type": "code",
   "execution_count": 7,
   "metadata": {
    "collapsed": true
   },
   "outputs": [],
   "source": [
    "from pyspark import RDD\n",
    "from pyspark import SparkContext\n",
    "from operator import add\n"
   ]
  },
  {
   "cell_type": "code",
   "execution_count": 19,
   "metadata": {
    "collapsed": true
   },
   "outputs": [],
   "source": [
    "def map_rdd_tags():\n",
    "    genre_rdd=sc.pickleFile(\"../data/metadata-artist_terms/\")\n",
    "    year_rdd=sc.pickleFile(\"../data/musicbrainz-songs/\")\n",
    "    metadata_rdd=sc.pickleFile('../data/metadata-songs/')\n",
    "\n",
    "    f=genre_rdd.map(lambda x: (x[0],x[1]))\n",
    "\n",
    "    year=year_rdd.map(lambda x: (x[0],x[1]['year'][0]))\n",
    "\n",
    "    hotness=metadata_rdd.map(lambda x: (x[0],x[1]['song_hotttnesss'][0]))\n",
    "    joined=f.join(year).join(hotness)\n",
    "    by=joined.map(lambda x: (x[1][0][1],x[1][0][0],x[1][1])) #year,array tags, hotness\n",
    "    return by"
   ]
  },
  {
   "cell_type": "code",
   "execution_count": 22,
   "metadata": {
    "collapsed": true
   },
   "outputs": [],
   "source": [
    "full=map_rdd_tags()"
   ]
  },
  {
   "cell_type": "code",
   "execution_count": 49,
   "metadata": {},
   "outputs": [
    {
     "data": {
      "text/plain": [
       "(1992, array(['grunge', 'alternative metal', 'heavy metal', 'hard rock',\n",
       "        'alternative rock', 'rock', 'seattle', 'alternative pop rock',\n",
       "        'soundtrack', 'metal', 'heavy', 'acoustic', 'lyrics', 'alternative',\n",
       "        'classic', 'beautiful', 'soul', 'sludge', 'guitar', 'mellow',\n",
       "        'epic', 'aggressive', 'high school'],\n",
       "       dtype='|S256'), 0.81839437971637685)"
      ]
     },
     "execution_count": 49,
     "metadata": {},
     "output_type": "execute_result"
    }
   ],
   "source": [
    "s=full.collect()\n",
    "s[0]"
   ]
  },
  {
   "cell_type": "code",
   "execution_count": 25,
   "metadata": {
    "collapsed": true
   },
   "outputs": [],
   "source": [
    "def filter_year(rdd,year):\n",
    "    return rdd.filter(lambda x:x[0]==year)"
   ]
  },
  {
   "cell_type": "code",
   "execution_count": 44,
   "metadata": {
    "collapsed": true
   },
   "outputs": [],
   "source": [
    "def count_tags(rdd):\n",
    "    m=rdd.flatMap(lambda x: [i for i in x[1]]).map(lambda x : (x,1)).reduceByKey(add)\n",
    "    c=m.collect()\n",
    "    return sorted(c,key=lambda x:x[1],reverse=True)"
   ]
  },
  {
   "cell_type": "code",
   "execution_count": 47,
   "metadata": {
    "scrolled": true
   },
   "outputs": [
    {
     "data": {
      "text/plain": [
       "[('rock', 136),\n",
       " ('pop', 114),\n",
       " ('electronic', 98),\n",
       " ('jazz', 66),\n",
       " ('united states', 66),\n",
       " ('hip hop', 66),\n",
       " ('alternative', 66),\n",
       " ('soul', 58),\n",
       " ('folk', 53),\n",
       " ('indie', 51)]"
      ]
     },
     "execution_count": 47,
     "metadata": {},
     "output_type": "execute_result"
    }
   ],
   "source": [
    "f=filter_year(full,2000)\n",
    "c=count_tags(f)\n",
    "c[:10]"
   ]
  },
  {
   "cell_type": "code",
   "execution_count": 34,
   "metadata": {},
   "outputs": [],
   "source": [
    "def filter_hotness(rdd,hotness):\n",
    "    return rdd.filter(lambda x : x[2]>=hotness)"
   ]
  },
  {
   "cell_type": "code",
   "execution_count": 48,
   "metadata": {},
   "outputs": [
    {
     "data": {
      "text/plain": [
       "[('rock', 9),\n",
       " ('pop', 6),\n",
       " ('punk', 5),\n",
       " ('rap', 5),\n",
       " ('soundtrack', 5),\n",
       " ('hip hop', 5),\n",
       " ('alternative', 5),\n",
       " ('club', 4),\n",
       " ('indie', 4),\n",
       " ('guitar', 4)]"
      ]
     },
     "execution_count": 48,
     "metadata": {},
     "output_type": "execute_result"
    }
   ],
   "source": [
    "\n",
    "ht=filter_hotness(f,0.7)\n",
    "c=count_tags(ht)\n",
    "c[:10]"
   ]
  }
 ],
 "metadata": {
  "kernelspec": {
   "display_name": "Python 2",
   "language": "python",
   "name": "python2"
  },
  "language_info": {
   "codemirror_mode": {
    "name": "ipython",
    "version": 2
   },
   "file_extension": ".py",
   "mimetype": "text/x-python",
   "name": "python",
   "nbconvert_exporter": "python",
   "pygments_lexer": "ipython2",
   "version": "2.7.14"
  }
 },
 "nbformat": 4,
 "nbformat_minor": 2
}
