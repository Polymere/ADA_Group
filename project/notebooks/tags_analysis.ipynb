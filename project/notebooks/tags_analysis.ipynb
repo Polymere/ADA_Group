{
 "cells": [
  {
   "cell_type": "code",
   "execution_count": 1,
   "metadata": {
    "collapsed": true
   },
   "outputs": [],
   "source": [
    "import pandas as pd\n",
    "from pyspark import RDD\n",
    "from pyspark import SparkContext\n",
    "from operator import add\n"
   ]
  },
  {
   "cell_type": "code",
   "execution_count": 12,
   "metadata": {},
   "outputs": [],
   "source": [
    "genre_rdd=sc.pickleFile(\"../data/metadata-artist_terms/\")\n",
    "year_rdd=sc.pickleFile(\"../data/musicbrainz-songs/\")\n",
    "metadata_rdd=sc.pickleFile('../data/metadata-songs/')\n",
    "\n",
    "f=genre_rdd.map(lambda x: (x[0],x[1]))\n",
    "\n",
    "year=year_rdd.map(lambda x: (x[0],x[1]['year'][0]))\n",
    "\n",
    "hotness=metadata_rdd.map(lambda x: (x[0],x[1]['song_hotttnesss'][0]))\n",
    "joined=f.join(year).join(hotness)\n",
    "s=joined.collect()"
   ]
  },
  {
   "cell_type": "code",
   "execution_count": 30,
   "metadata": {},
   "outputs": [
    {
     "data": {
      "text/plain": [
       "0.81839437971637685"
      ]
     },
     "execution_count": 30,
     "metadata": {},
     "output_type": "execute_result"
    }
   ],
   "source": [
    "s[0][1][1]"
   ]
  },
  {
   "cell_type": "code",
   "execution_count": 32,
   "metadata": {},
   "outputs": [],
   "source": [
    "by=joined.map(lambda x: (x[1][0][1],x[1][0][0],x[1][1])) #year and feature\n",
    "g=by.collect()"
   ]
  },
  {
   "cell_type": "code",
   "execution_count": 34,
   "metadata": {},
   "outputs": [
    {
     "data": {
      "text/plain": [
       "array(['grunge', 'alternative metal', 'heavy metal', 'hard rock',\n",
       "       'alternative rock', 'rock', 'seattle', 'alternative pop rock',\n",
       "       'soundtrack', 'metal', 'heavy', 'acoustic', 'lyrics', 'alternative',\n",
       "       'classic', 'beautiful', 'soul', 'sludge', 'guitar', 'mellow',\n",
       "       'epic', 'aggressive', 'high school'],\n",
       "      dtype='|S256')"
      ]
     },
     "execution_count": 34,
     "metadata": {},
     "output_type": "execute_result"
    }
   ],
   "source": []
  },
  {
   "cell_type": "code",
   "execution_count": 11,
   "metadata": {
    "collapsed": true
   },
   "outputs": [],
   "source": [
    "m.reduceByKey?"
   ]
  },
  {
   "cell_type": "code",
   "execution_count": null,
   "metadata": {
    "collapsed": true
   },
   "outputs": [],
   "source": []
  }
 ],
 "metadata": {
  "kernelspec": {
   "display_name": "Python 2",
   "language": "python",
   "name": "python2"
  },
  "language_info": {
   "codemirror_mode": {
    "name": "ipython",
    "version": 2
   },
   "file_extension": ".py",
   "mimetype": "text/x-python",
   "name": "python",
   "nbconvert_exporter": "python",
   "pygments_lexer": "ipython2",
   "version": "2.7.14"
  }
 },
 "nbformat": 4,
 "nbformat_minor": 2
}
