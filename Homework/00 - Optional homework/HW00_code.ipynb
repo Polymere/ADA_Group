{
 "cells": [
  {
   "cell_type": "markdown",
   "metadata": {},
   "source": [
    "Import the data "
   ]
  },
  {
   "cell_type": "code",
   "execution_count": 22,
   "metadata": {},
   "outputs": [
    {
     "name": "stdout",
     "output_type": "stream",
     "text": [
      "Populating the interactive namespace from numpy and matplotlib\n"
     ]
    }
   ],
   "source": [
    "%pylab inline\n",
    "import csv\n",
    "from decimal import Decimal\n",
    "\n",
    "gsd_data_path=\"./Data/full_data.csv\"\n",
    "gsd_file=open(gsd_data_path,\"r\")\n",
    "gsd_data=[]\n",
    "gsd_reader=csv.reader(gsd_file)\n",
    "for row in gsd_reader:\n",
    "    #store as a dict\n",
    "    new_gsd={}\n",
    "    new_gsd['year']=row[1]\n",
    "    new_gsd['month']=row[2]\n",
    "    new_gsd['intent']=row[3]\n",
    "    new_gsd['police']=row[4]\n",
    "    new_gsd['sex']=row[5]\n",
    "    new_gsd['age']=row[6]\n",
    "    new_gsd['race']=row[7]\n",
    "    new_gsd['hispanic']=row[8]\n",
    "    new_gsd['place']=row[9]\n",
    "    new_gsd['education']=row[10]\n",
    "    #add to the list\n",
    "    gsd_data.append(new_gsd)\n"
   ]
  },
  {
   "cell_type": "code",
   "execution_count": 23,
   "metadata": {},
   "outputs": [
    {
     "name": "stdout",
     "output_type": "stream",
     "text": [
      "63175\n",
      "The suicide ratio is 62.7 per cent\n"
     ]
    }
   ],
   "source": [
    "suicide_count=0\n",
    "for gsd_case in range(len(gsd_data)):\n",
    "    if gsd_data[gsd_case]['intent']=='Suicide':\n",
    "        suicide_count+=1\n",
    "ratio=Decimal(100*suicide_count/len(gsd_data))\n",
    "print('The suicide ratio is', round(ratio,1) ,'per cent')\n",
    "\n",
    "    \n",
    "    "
   ]
  }
 ],
 "metadata": {
  "kernelspec": {
   "display_name": "Python [default]",
   "language": "python",
   "name": "python3"
  },
  "language_info": {
   "codemirror_mode": {
    "name": "ipython",
    "version": 3
   },
   "file_extension": ".py",
   "mimetype": "text/x-python",
   "name": "python",
   "nbconvert_exporter": "python",
   "pygments_lexer": "ipython3",
   "version": "3.5.4"
  }
 },
 "nbformat": 4,
 "nbformat_minor": 2
}
