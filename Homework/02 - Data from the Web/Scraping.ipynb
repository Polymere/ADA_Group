{
 "cells": [
  {
   "cell_type": "code",
   "execution_count": 1,
   "metadata": {
    "collapsed": true
   },
   "outputs": [],
   "source": [
    "import requests\n",
    "from bs4 import BeautifulSoup\n",
    "import pandas as pd\n",
    "import seaborn\n",
    "import re\n",
    "import numpy as np"
   ]
  },
  {
   "cell_type": "markdown",
   "metadata": {},
   "source": [
    "### Scraping topuniversities.com\n",
    "Scraping topuniversities is done in two steps:\n",
    "- first we download the university list ordered by the ranking (the scraping_top_university_list)\n",
    "- then we open each description page of the universities to get additional information (follow_detail_url_top_university)\n",
    "\n",
    "follow_detail_url_top_university is quite a slow function, as it has to download many webpages (200 in our case).\n",
    "To scrape all the information, execute: \n",
    "`follow_detail_url_top_university(scraping_top_university_list())`"
   ]
  },
  {
   "cell_type": "code",
   "execution_count": 2,
   "metadata": {},
   "outputs": [],
   "source": [
    "TOP_UNIVERSITY_BASE_URL = \"https://www.topuniversities.com\"\n",
    "TOP_UNIVERSITY_RANK_LIST_URL = TOP_UNIVERSITY_BASE_URL + \"/sites/default/files/qs-rankings-data/357051.txt?_=1508344027292\"\n",
    "TOP_UNIVERSITY_NUMBER_OF_UNIVERSITIES_TO_SCRAPE = 200\n",
    "\n",
    "def scraping_top_university_list():\n",
    "    \"\"\"\n",
    "    This function downloads the university list rank from topuniversity.com and returns it in a list.\n",
    "    Each element of the list is a simple dictionary containing: name, rank, country, region, and url\n",
    "    to the detailed page of the university\n",
    "    \"\"\"\n",
    "    top_university_ranking_page = requests.get(TOP_UNIVERSITY_RANK_LIST_URL)\n",
    "    ranked_university_list = top_university_ranking_page.json()['data']\n",
    "    data = [{\n",
    "        'name': uni['title'],\n",
    "        'rank': uni['rank_display'],\n",
    "        'country': uni['country'],\n",
    "        'region': uni['region'],\n",
    "        'url': uni['url']\n",
    "    } for uni in ranked_university_list[:TOP_UNIVERSITY_NUMBER_OF_UNIVERSITIES_TO_SCRAPE]]\n",
    "    return data\n",
    "\n",
    "ACADEMIC_STAFF_NUMBERS_REGEX = re.compile(r'^[^0-9,]*([0-9,]+)[^0-9,]*$')\n",
    "\n",
    "def parse_top_university_numbers(text):\n",
    "    \"\"\"\n",
    "    Just an utility function that let us parse to an integer the numbers scraped from the top universisty website\n",
    "    \"\"\"\n",
    "    return int(ACADEMIC_STAFF_NUMBERS_REGEX.match(text).group(1).replace(',', ''))\n",
    "\n",
    "def follow_detail_url_top_university(data):\n",
    "    \"\"\"\n",
    "    This function takes as input a list returned by the 'scraping_top_university_list' function,\n",
    "    follows the link of the url (giving detailed information on the university), and adds the\n",
    "    number of faculty members (international and total) and the number of students (international and total).\n",
    "    If some information is missing, it is filled with the None value\n",
    "    \"\"\"\n",
    "    output = []\n",
    "    for uni in data:\n",
    "        try:\n",
    "            raw_detail_page = requests.get(TOP_UNIVERSITY_BASE_URL + uni['url'])\n",
    "            parsed_detail_page = BeautifulSoup(raw_detail_page.text, 'html.parser')\n",
    "            try:\n",
    "                members_total = parse_top_university_numbers(\n",
    "                    parsed_detail_page.find('div', class_=\"total faculty\").find(class_=\"number\").text\n",
    "                )\n",
    "            except:\n",
    "                members_total = None\n",
    "            try:\n",
    "                members_international = parse_top_university_numbers(\n",
    "                    parsed_detail_page.find('div', class_=\"inter faculty\").find(class_=\"number\").text\n",
    "                )\n",
    "            except:\n",
    "                members_international = None\n",
    "            try:\n",
    "                students_total = parse_top_university_numbers(\n",
    "                    parsed_detail_page.find('div', class_=\"total student\").find(class_=\"number\").text\n",
    "                )\n",
    "            except:\n",
    "                students_total = None\n",
    "            try:\n",
    "                students_international = parse_top_university_numbers(\n",
    "                    parsed_detail_page.find('div', class_=\"total inter\").find(class_=\"number\").text\n",
    "                )\n",
    "            except:\n",
    "                students_international = None\n",
    "                \n",
    "            output.append({\n",
    "                'name': uni['name'],\n",
    "                'rank': uni['rank'],\n",
    "                'country': uni['country'],\n",
    "                'region': uni['region'],\n",
    "                'members_total': members_total,\n",
    "                'members_international': members_international,\n",
    "                'students_total': students_total,\n",
    "                'students_international': students_international\n",
    "            })\n",
    "        except:\n",
    "            print(\"Error loading details of university:\", uni)\n",
    "            output.append({\n",
    "                'name': uni['name'],\n",
    "                'rank': uni['rank'],\n",
    "                'country': uni['country'],\n",
    "                'region': uni['region'],\n",
    "                'members_total': None,\n",
    "                'members_international': None,\n",
    "                'students_total': None,\n",
    "                'students_international': None\n",
    "            })\n",
    "    return output"
   ]
  },
  {
   "cell_type": "code",
   "execution_count": 3,
   "metadata": {
    "scrolled": false
   },
   "outputs": [],
   "source": [
    "top_university_data = follow_detail_url_top_university(scraping_top_university_list())"
   ]
  },
  {
   "cell_type": "code",
   "execution_count": 4,
   "metadata": {
    "scrolled": true
   },
   "outputs": [
    {
     "data": {
      "text/plain": [
       "{'country': 'Switzerland',\n",
       " 'members_international': 1300,\n",
       " 'members_total': 1695,\n",
       " 'name': 'Ecole Polytechnique Fédérale de Lausanne (EPFL)',\n",
       " 'rank': '12',\n",
       " 'region': 'Europe',\n",
       " 'students_international': 5896,\n",
       " 'students_total': 10343}"
      ]
     },
     "execution_count": 4,
     "metadata": {},
     "output_type": "execute_result"
    }
   ],
   "source": [
    "top_university_data[11]"
   ]
  },
  {
   "cell_type": "code",
   "execution_count": 6,
   "metadata": {},
   "outputs": [],
   "source": [
    "df_top_university = pd.DataFrame(top_university_data)"
   ]
  },
  {
   "cell_type": "code",
   "execution_count": 7,
   "metadata": {},
   "outputs": [
    {
     "data": {
      "text/html": [
       "<div>\n",
       "<style>\n",
       "    .dataframe thead tr:only-child th {\n",
       "        text-align: right;\n",
       "    }\n",
       "\n",
       "    .dataframe thead th {\n",
       "        text-align: left;\n",
       "    }\n",
       "\n",
       "    .dataframe tbody tr th {\n",
       "        vertical-align: top;\n",
       "    }\n",
       "</style>\n",
       "<table border=\"1\" class=\"dataframe\">\n",
       "  <thead>\n",
       "    <tr style=\"text-align: right;\">\n",
       "      <th></th>\n",
       "      <th>country</th>\n",
       "      <th>members_international</th>\n",
       "      <th>members_total</th>\n",
       "      <th>name</th>\n",
       "      <th>rank</th>\n",
       "      <th>region</th>\n",
       "      <th>students_international</th>\n",
       "      <th>students_total</th>\n",
       "    </tr>\n",
       "  </thead>\n",
       "  <tbody>\n",
       "    <tr>\n",
       "      <th>51</th>\n",
       "      <td>United States</td>\n",
       "      <td>NaN</td>\n",
       "      <td>NaN</td>\n",
       "      <td>New York University (NYU)</td>\n",
       "      <td>52</td>\n",
       "      <td>North America</td>\n",
       "      <td>NaN</td>\n",
       "      <td>NaN</td>\n",
       "    </tr>\n",
       "    <tr>\n",
       "      <th>189</th>\n",
       "      <td>India</td>\n",
       "      <td>NaN</td>\n",
       "      <td>423.0</td>\n",
       "      <td>Indian Institute of Science (IISc) Bangalore</td>\n",
       "      <td>190</td>\n",
       "      <td>Asia</td>\n",
       "      <td>47.0</td>\n",
       "      <td>4071.0</td>\n",
       "    </tr>\n",
       "  </tbody>\n",
       "</table>\n",
       "</div>"
      ],
      "text/plain": [
       "           country  members_international  members_total  \\\n",
       "51   United States                    NaN            NaN   \n",
       "189          India                    NaN          423.0   \n",
       "\n",
       "                                             name rank         region  \\\n",
       "51                      New York University (NYU)   52  North America   \n",
       "189  Indian Institute of Science (IISc) Bangalore  190           Asia   \n",
       "\n",
       "     students_international  students_total  \n",
       "51                      NaN             NaN  \n",
       "189                    47.0          4071.0  "
      ]
     },
     "execution_count": 7,
     "metadata": {},
     "output_type": "execute_result"
    }
   ],
   "source": [
    "df_top_university[np.isnan(df_top_university.members_international)]"
   ]
  },
  {
   "cell_type": "markdown",
   "metadata": {},
   "source": [
    "### Scraping timeshighereducation.com\n",
    "Scraping timeshighereducation.com can be done in one function this time. The detailed pages of the universities do not bring us more information. Unfortunatly, the region and number of international staff information is not given. To keep the same format as above, `scraping_higher_education_list` returns the same format but with `region` and `members_international` set to None. The number of international students and staff are not given either, but can be computed from the given stats. We set:\n",
    "\n",
    "`members_total = number_of_staff_per_students/number_of_students`\n",
    "`students_international = number_of_students * proportion_of_international_student`"
   ]
  },
  {
   "cell_type": "code",
   "execution_count": 42,
   "metadata": {
    "collapsed": true
   },
   "outputs": [],
   "source": [
    "HIGHER_EDUCATION_BASE_URL = \"https://www.timeshighereducation.com\"\n",
    "HIGHER_EDUCATION_RANK_LIST_URL = HIGHER_EDUCATION_BASE_URL + \\\n",
    "    \"/sites/default/files/the_data_rankings/world_university_rankings_2018_limit0_369a9045a203e176392b9fb8f8c1cb2a.json\"\n",
    "HIGHER_EDUCATION_NUMBER_OF_UNIVERSITIES_TO_SCRAPE = 200\n",
    "\n",
    "HIGHER_EDUCATION_PERCENTAGE_REGEX = re.compile(r'^([0-9,.]+)%$')\n",
    "\n",
    "def parse_higher_education_percentage(text):\n",
    "    \"\"\"\n",
    "    Just an utility function that let us parse the percentage string from highereducation. It is returned as a float\n",
    "    \"\"\"\n",
    "    return float(HIGHER_EDUCATION_PERCENTAGE_REGEX.match(text).group(1))/100.0\n",
    "\n",
    "def scraping_higher_education_list():\n",
    "    \"\"\"\n",
    "    This function downloads the university list rank from timeshighereducation.com and returns it in a list.\n",
    "    Each element of the list is a simple dictionary containing: name, rank, country, region, the\n",
    "    number of faculty members (international and total) and the number of students (international and total)\n",
    "    \"\"\"\n",
    "    higher_education_ranking_page = requests.get(HIGHER_EDUCATION_RANK_LIST_URL)\n",
    "    ranked_university_list = higher_education_ranking_page.json()['data']\n",
    "    data = []\n",
    "    for uni in ranked_university_list[:HIGHER_EDUCATION_NUMBER_OF_UNIVERSITIES_TO_SCRAPE]:\n",
    "        number_of_students = int(uni['stats_number_students'].replace(',', ''))\n",
    "        data.append({\n",
    "            'name': uni['name'],\n",
    "            'rank': uni['rank'],\n",
    "            'country': uni['location'],\n",
    "            'region': None,\n",
    "            'members_total': int(float(number_of_students) / float(uni['stats_student_staff_ratio'])),\n",
    "            'members_international': None,\n",
    "            'students_total': number_of_students,\n",
    "            'students_international': int(\n",
    "                parse_higher_education_percentage(uni['stats_pc_intl_students']) * \n",
    "                float(number_of_students))\n",
    "        })\n",
    "    return data"
   ]
  },
  {
   "cell_type": "code",
   "execution_count": 43,
   "metadata": {
    "collapsed": true
   },
   "outputs": [],
   "source": [
    "higher_education_data = scraping_higher_education_list()"
   ]
  },
  {
   "cell_type": "code",
   "execution_count": 44,
   "metadata": {
    "collapsed": true
   },
   "outputs": [],
   "source": [
    "df_higher_education = pd.DataFrame(higher_education_data)"
   ]
  }
 ],
 "metadata": {
  "kernelspec": {
   "display_name": "Python 3",
   "language": "python",
   "name": "python3"
  },
  "language_info": {
   "codemirror_mode": {
    "name": "ipython",
    "version": 3
   },
   "file_extension": ".py",
   "mimetype": "text/x-python",
   "name": "python",
   "nbconvert_exporter": "python",
   "pygments_lexer": "ipython3",
   "version": "3.6.2"
  }
 },
 "nbformat": 4,
 "nbformat_minor": 2
}
