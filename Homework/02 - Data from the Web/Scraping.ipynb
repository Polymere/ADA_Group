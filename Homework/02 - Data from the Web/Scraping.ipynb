{
 "cells": [
  {
   "cell_type": "code",
   "execution_count": 1,
   "metadata": {
    "collapsed": true
   },
   "outputs": [],
   "source": [
    "import requests\n",
    "from bs4 import BeautifulSoup\n",
    "import pandas as pd\n",
    "import seaborn\n",
    "import re\n",
    "import numpy as np"
   ]
  },
  {
   "cell_type": "code",
   "execution_count": 2,
   "metadata": {},
   "outputs": [],
   "source": [
    "TOP_UNIVERSITY_BASE_URL = \"https://www.topuniversities.com\"\n",
    "TOP_UNIVERSITY_RANK_LIST_URL = TOP_UNIVERSITY_BASE_URL + \"/sites/default/files/qs-rankings-data/357051.txt?_=1508344027292\"\n",
    "NUMBER_OF_UNIVERSITIES_TO_SCRAPE = 200\n",
    "\n",
    "def scraping_top_university_list():\n",
    "    \"\"\"\n",
    "    This function downloads the university list rank from topuniversity.com and returns it in a list.\n",
    "    Each element of the list is a simple dictionary containing: name, rank, country, region, and url\n",
    "    to the detailed page of the university\n",
    "    \"\"\"\n",
    "    top_university_ranking_page = requests.get(TOP_UNIVERSITY_RANK_LIST_URL)\n",
    "    ranked_university_list = top_university_ranking_page.json()['data']\n",
    "    data = [{\n",
    "        'name': uni['title'],\n",
    "        'rank': uni['rank_display'],\n",
    "        'country': uni['country'],\n",
    "        'region': uni['region'],\n",
    "        'url': uni['url']\n",
    "    } for uni in ranked_university_list[:NUMBER_OF_UNIVERSITIES_TO_SCRAPE]]\n",
    "    return data\n",
    "\n",
    "ACADEMIC_STAFF_NUMBERS_REGEX = re.compile(r'^[^0-9,]*([0-9,]+)[^0-9,]*$')\n",
    "\n",
    "def parse_top_university_numbers(text):\n",
    "    \"\"\"\n",
    "    Just an utility function that let us parse to an integer the numbers scraped from the top universisty website\n",
    "    \"\"\"\n",
    "    return int(ACADEMIC_STAFF_NUMBERS_REGEX.match(text).group(1).replace(',', ''))\n",
    "\n",
    "def follow_detail_url_top_university(data):\n",
    "    \"\"\"\n",
    "    This function takes as input a list returned by the 'scraping_top_university_list' function,\n",
    "    follows the link of the url (giving detailed information on the university), and adds the\n",
    "    number of faculty members (international and total) and the number of students (international and total).\n",
    "    If some information is missing, it is filled with the None value\n",
    "    \"\"\"\n",
    "    output = []\n",
    "    for uni in data:\n",
    "        try:\n",
    "            raw_detail_page = requests.get(TOP_UNIVERSITY_BASE_URL + uni['url'])\n",
    "            parsed_detail_page = BeautifulSoup(raw_detail_page.text, 'html.parser')\n",
    "            try:\n",
    "                members_total = parse_top_university_numbers(\n",
    "                    parsed_detail_page.find('div', class_=\"total faculty\").find(class_=\"number\").text\n",
    "                )\n",
    "            except:\n",
    "                members_total = None\n",
    "            try:\n",
    "                members_international = parse_top_university_numbers(\n",
    "                    parsed_detail_page.find('div', class_=\"inter faculty\").find(class_=\"number\").text\n",
    "                )\n",
    "            except:\n",
    "                members_international = None\n",
    "            try:\n",
    "                students_total = parse_top_university_numbers(\n",
    "                    parsed_detail_page.find('div', class_=\"total student\").find(class_=\"number\").text\n",
    "                )\n",
    "            except:\n",
    "                students_total = None\n",
    "            try:\n",
    "                students_international = parse_top_university_numbers(\n",
    "                    parsed_detail_page.find('div', class_=\"total inter\").find(class_=\"number\").text\n",
    "                )\n",
    "            except:\n",
    "                students_international = None\n",
    "                \n",
    "            output.append({\n",
    "                'name': uni['name'],\n",
    "                'rank': uni['rank'],\n",
    "                'country': uni['country'],\n",
    "                'region': uni['region'],\n",
    "                'members_total': members_total,\n",
    "                'members_international': members_international,\n",
    "                'students_total': students_total,\n",
    "                'students_international': students_international\n",
    "            })\n",
    "        except:\n",
    "            print(\"Error loading details of university:\", uni)\n",
    "            output.append({\n",
    "                'name': uni['name'],\n",
    "                'rank': uni['rank'],\n",
    "                'country': uni['country'],\n",
    "                'region': uni['region'],\n",
    "                'members_total': None,\n",
    "                'members_international': None,\n",
    "                'students_total': None,\n",
    "                'students_international': None\n",
    "            })\n",
    "    return output"
   ]
  },
  {
   "cell_type": "code",
   "execution_count": 3,
   "metadata": {
    "scrolled": false
   },
   "outputs": [],
   "source": [
    "top_university_data = follow_detail_url_top_university(scraping_top_university_list())"
   ]
  },
  {
   "cell_type": "code",
   "execution_count": 4,
   "metadata": {
    "scrolled": true
   },
   "outputs": [
    {
     "data": {
      "text/plain": [
       "{'country': 'Switzerland',\n",
       " 'members_international': 1300,\n",
       " 'members_total': 1695,\n",
       " 'name': 'Ecole Polytechnique Fédérale de Lausanne (EPFL)',\n",
       " 'rank': '12',\n",
       " 'region': 'Europe',\n",
       " 'students_international': 5896,\n",
       " 'students_total': 10343}"
      ]
     },
     "execution_count": 4,
     "metadata": {},
     "output_type": "execute_result"
    }
   ],
   "source": [
    "top_university_data[11]"
   ]
  },
  {
   "cell_type": "code",
   "execution_count": 6,
   "metadata": {},
   "outputs": [],
   "source": [
    "df_top_university = pd.DataFrame(top_university_data)"
   ]
  },
  {
   "cell_type": "code",
   "execution_count": 7,
   "metadata": {},
   "outputs": [
    {
     "data": {
      "text/html": [
       "<div>\n",
       "<style>\n",
       "    .dataframe thead tr:only-child th {\n",
       "        text-align: right;\n",
       "    }\n",
       "\n",
       "    .dataframe thead th {\n",
       "        text-align: left;\n",
       "    }\n",
       "\n",
       "    .dataframe tbody tr th {\n",
       "        vertical-align: top;\n",
       "    }\n",
       "</style>\n",
       "<table border=\"1\" class=\"dataframe\">\n",
       "  <thead>\n",
       "    <tr style=\"text-align: right;\">\n",
       "      <th></th>\n",
       "      <th>country</th>\n",
       "      <th>members_international</th>\n",
       "      <th>members_total</th>\n",
       "      <th>name</th>\n",
       "      <th>rank</th>\n",
       "      <th>region</th>\n",
       "      <th>students_international</th>\n",
       "      <th>students_total</th>\n",
       "    </tr>\n",
       "  </thead>\n",
       "  <tbody>\n",
       "    <tr>\n",
       "      <th>51</th>\n",
       "      <td>United States</td>\n",
       "      <td>NaN</td>\n",
       "      <td>NaN</td>\n",
       "      <td>New York University (NYU)</td>\n",
       "      <td>52</td>\n",
       "      <td>North America</td>\n",
       "      <td>NaN</td>\n",
       "      <td>NaN</td>\n",
       "    </tr>\n",
       "    <tr>\n",
       "      <th>189</th>\n",
       "      <td>India</td>\n",
       "      <td>NaN</td>\n",
       "      <td>423.0</td>\n",
       "      <td>Indian Institute of Science (IISc) Bangalore</td>\n",
       "      <td>190</td>\n",
       "      <td>Asia</td>\n",
       "      <td>47.0</td>\n",
       "      <td>4071.0</td>\n",
       "    </tr>\n",
       "  </tbody>\n",
       "</table>\n",
       "</div>"
      ],
      "text/plain": [
       "           country  members_international  members_total  \\\n",
       "51   United States                    NaN            NaN   \n",
       "189          India                    NaN          423.0   \n",
       "\n",
       "                                             name rank         region  \\\n",
       "51                      New York University (NYU)   52  North America   \n",
       "189  Indian Institute of Science (IISc) Bangalore  190           Asia   \n",
       "\n",
       "     students_international  students_total  \n",
       "51                      NaN             NaN  \n",
       "189                    47.0          4071.0  "
      ]
     },
     "execution_count": 7,
     "metadata": {},
     "output_type": "execute_result"
    }
   ],
   "source": [
    "df_top_university[np.isnan(df_top_university.members_international)]"
   ]
  },
  {
   "cell_type": "code",
   "execution_count": null,
   "metadata": {
    "collapsed": true
   },
   "outputs": [],
   "source": []
  }
 ],
 "metadata": {
  "kernelspec": {
   "display_name": "Python 3",
   "language": "python",
   "name": "python3"
  },
  "language_info": {
   "codemirror_mode": {
    "name": "ipython",
    "version": 3
   },
   "file_extension": ".py",
   "mimetype": "text/x-python",
   "name": "python",
   "nbconvert_exporter": "python",
   "pygments_lexer": "ipython3",
   "version": "3.6.2"
  }
 },
 "nbformat": 4,
 "nbformat_minor": 2
}
