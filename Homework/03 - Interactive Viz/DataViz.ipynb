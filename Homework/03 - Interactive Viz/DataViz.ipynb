{
 "cells": [
  {
   "cell_type": "markdown",
   "metadata": {},
   "source": [
    "# 03 - Interactive Viz\n",
    "\n",
    "## Deadline\n",
    "\n",
    "Wednesday November 8th, 2017 at 11:59PM\n",
    "\n",
    "## Important Notes\n",
    "\n",
    "- Make sure you push on GitHub your Notebook with all the cells already evaluated\n",
    "- Note that maps do not render in a standard Github environment : you should export them to HTML and link them in your notebook.\n",
    "- Remember that `.csv` is not the only data format. Though they might require additional processing, some formats provide better encoding support.\n",
    "- Don't forget to add a textual description of your thought process, the assumptions you made, and the solution you plan to implement!\n",
    "- Please write all your comments in English, and use meaningful variable names in your code\n",
    "\n",
    "## Background\n",
    "\n",
    "In this homework we will be exploring interactive visualization, which is a key ingredient of many successful data visualizations (especially when it comes to infographics).\n",
    "\n",
    "Unemployment rates are major economic metrics and a matter of concern for governments around the world. Though its definition may seem straightforward at first glance (usually defined as the number of unemployed people divided by the active population), it can be tricky to define consistently. For example, one must define what exactly unemployed means : looking for a job ? Having declared their unemployment ? Currently without a job ? Should students or recent graduates be included ? We could also wonder what the active population is : everyone in an age category (e.g. `16-64`) ? Anyone interested by finding a job ? Though these questions may seem subtle, they can have a large impact on the interpretation of the results : `3%` unemployment doesn't mean much if we don't know who is included in this percentage. \n",
    "\n",
    "In this homework you will be dealing with two different datasets from the statistics offices of the European commission ([eurostat](http://ec.europa.eu/eurostat/data/database)) and the Swiss Confederation ([amstat](https://www.amstat.ch)). They provide a variety of datasets with plenty of information on many different statistics and demographics at their respective scales. Unfortunately, as is often the case is data analysis, these websites are not always straightforward to navigate. They may include a lot of obscure categories, not always be translated into your native language, have strange link structures, â€¦ Navigating this complexity is part of a data scientists' job : you will have to use a few tricks to get the right data for this homework.\n",
    "\n",
    "For the visualization part, install [Folium](https://github.com/python-visualization/folium) (*HINT*: it is not available in your standard Anaconda environment, therefore search on the Web how to install it easily!). Folium's `README` comes with very clear examples, and links to their own iPython Notebooks -- make good use of this information. For your own convenience, in this same directory you can already find two `.topojson` files, containing the geo-coordinates of \n",
    "\n",
    "- European countries (*liberal definition of EU*) (`topojson/europe.topojson.json`, [source](https://github.com/leakyMirror/map-of-europe))\n",
    "- Swiss cantons (`topojson/ch-cantons.topojson.json`) \n",
    "\n",
    "These will be used as an overlay on the Folium maps.\n"
   ]
  },
  {
   "cell_type": "code",
   "execution_count": 89,
   "metadata": {
    "collapsed": true
   },
   "outputs": [],
   "source": [
    "import os\n",
    "import pandas as pd\n",
    "import json\n",
    "import folium\n",
    "import re\n",
    "import numpy as np\n",
    "import branca\n",
    "\n",
    "pd.options.mode.chained_assignment = None  # default='warn'"
   ]
  },
  {
   "cell_type": "markdown",
   "metadata": {},
   "source": [
    "# Assignment\n",
    "## Question 1\n",
    " Go to the [eurostat](http://ec.europa.eu/eurostat/data/database) website and try to find a dataset that includes the european unemployment rates at a recent date.\n",
    "\n",
    "   Use this data to build a [Choropleth map](https://en.wikipedia.org/wiki/Choropleth_map) which shows the unemployment rate in Europe at a country level. Think about [the colors you use](https://carto.com/academy/courses/intermediate-design/choose-colors-1/), how you decided to [split the intervals into data classes](http://gisgeography.com/choropleth-maps-data-classification/) or which interactions you could add in order to make the visualization intuitive and expressive. Compare Switzerland's unemployment rate to that of the rest of Europe.\n",
    "\n"
   ]
  },
  {
   "cell_type": "code",
   "execution_count": 90,
   "metadata": {
    "collapsed": true
   },
   "outputs": [],
   "source": [
    "def series_str_to_float(s):\n",
    "    \"\"\"\n",
    "    Simple utility function to convert strings to floats\n",
    "    \"\"\"\n",
    "    for idx in s.index:\n",
    "        try:\n",
    "            non_decimal = re.compile(r'[^\\d.]+')\n",
    "            s[idx]=non_decimal.sub('',s[idx])\n",
    "        except:\n",
    "            pass\n",
    "        try:\n",
    "            s[idx]=float(s[idx])\n",
    "        except:\n",
    "            s[idx]=np.nan\n",
    "    return s"
   ]
  },
  {
   "cell_type": "markdown",
   "metadata": {},
   "source": [
    "## Choice of the dataset\n",
    "First we extract the data and remove any columns we don't need.\n"
   ]
  },
  {
   "cell_type": "code",
   "execution_count": 91,
   "metadata": {
    "collapsed": true
   },
   "outputs": [],
   "source": [
    "rate_filepath='./dataEurope/lfsa_urgan.tsv'\n",
    "#number_filepath='./dataEurope/lfsa_ugan.tsv'\n",
    "\n",
    "def import_file(filepath):\n",
    "    df2=pd.read_table(filepath)\n",
    "    s=df2[df2.columns[0]]\n",
    "    df1=s.str.split(pat=',', expand=True)\n",
    "    df1.columns=('Unit', 'Sex', 'Age', 'Citizen', 'Country')\n",
    "    df2.drop(df2.columns[0],axis=1,inplace=True)\n",
    "    full_df=pd.concat([df1,df2], axis=1)\n",
    "    #Cleaning the series for the most recent entry (2016)\n",
    "    s_lastyear=series_str_to_float(full_df[full_df.columns[5]])\n",
    "    return pd.concat([full_df[['Unit', 'Sex', 'Age', 'Citizen', 'Country']],s_lastyear],axis=1)\n",
    "\n",
    "df_rate=import_file(rate_filepath)\n",
    "df_rate.rename(columns={df_rate.columns[5]:'Rate'}, inplace=True)\n",
    "#df_rate.Country"
   ]
  },
  {
   "cell_type": "code",
   "execution_count": 92,
   "metadata": {
    "collapsed": true
   },
   "outputs": [],
   "source": [
    "#df_both=pd.concat([df_rate,df_numb[df_numb.columns[5]]],axis=1)\n",
    "cropped1=df_rate[df_rate.Age=='Y15-74']\n",
    "cropped2=cropped1[cropped1.Sex=='T']\n",
    "cropped3=cropped2[cropped2.Citizen=='TOTAL']\n",
    "cropped3['Rate']\n",
    "test=pd.DataFrame({'Country': ['FR', 'CH'], 'Rate':[18,2]})\n",
    "#c=cropped3.Country\n",
    "#c.values.size"
   ]
  },
  {
   "cell_type": "markdown",
   "metadata": {},
   "source": [
    "Now we can print the unemployement map in a html file [europeen_unemployement.html](htmlGraphOutputs/europeen_unemployement.html)\n",
    "\n",
    "Colors go from light red to red. Countries where the uneployement rate are missing for 2017 are colored in black. We can clearely see that Swizerland is part of the countries that have the lowest unemployement rate."
   ]
  },
  {
   "cell_type": "code",
   "execution_count": 93,
   "metadata": {
    "collapsed": true
   },
   "outputs": [],
   "source": [
    "HTML_PATH = \"htmlGraphOutputs/\""
   ]
  },
  {
   "cell_type": "code",
   "execution_count": 94,
   "metadata": {
    "collapsed": true
   },
   "outputs": [],
   "source": [
    "m=folium.Map(location=[22.3, 6.66])\n",
    "path_EU='./topojson/europe.topojson.json'\n",
    "eu_json_data=json.load(open(path_EU))\n",
    "eu_map=folium.Map(location=[46, 7],zoom_start=3)\n",
    "\n",
    "# Main Choropleth map\n",
    "eu_map.choropleth(\n",
    "    geo_data=eu_json_data,\n",
    "    topojson='objects.europe', \n",
    "    data=cropped3, \n",
    "    columns=['Country', 'Rate'],\n",
    "    key_on='feature.id', \n",
    "    fill_color='OrRd', \n",
    "    fill_opacity=0.8, \n",
    "    line_opacity=0.6,\n",
    "    legend_name='Unemployement rate(%)')\n",
    "\n",
    "# Aditive layer that blackens countries where the data is missing\n",
    "colorscale = branca.colormap.linear.OrRd.scale(0, np.max(cropped3['Rate']))\n",
    "country_index = cropped3.copy()\n",
    "country_index.index = cropped3['Country']\n",
    "\n",
    "def style_function(feature):\n",
    "    id_ = feature['id']\n",
    "    try:\n",
    "        color = colorscale(country_index.loc[id_]['Rate'])\n",
    "        fill_opacity = 0\n",
    "    except KeyError:\n",
    "        fill_opacity = 0.5\n",
    "        color = '#black'\n",
    "        \n",
    "    return {\n",
    "        'fillOpacity': fill_opacity,\n",
    "        'weight': 0,\n",
    "        'fillColor': color\n",
    "    }\n",
    "\n",
    "folium.TopoJson(\n",
    "    open(path_EU),\n",
    "    'objects.europe',\n",
    "    style_function=style_function\n",
    ").add_to(eu_map)\n",
    "\n",
    "eu_map.save(HTML_PATH + \"europeen_unemployement.html\")"
   ]
  },
  {
   "cell_type": "markdown",
   "metadata": {},
   "source": [
    "## Question 2\n",
    "Go to the [amstat](https://www.amstat.ch) website to find a dataset that includes the unemployment rates in Switzerland at a recent date.\n",
    "\n",
    "   > *HINT* Go to the `details` tab to find the raw data you need. If you do not speak French, German or Italian, think of using free translation services to navigate your way through. \n",
    "\n",
    "   Use this data to build another Choropleth map, this time showing the unemployment rate at the level of swiss cantons. Again, try to make the map as expressive as possible, and comment on the trends you observe.\n",
    "\n",
    "   The Swiss Confederation defines the rates you have just plotted as the number of people looking for a job divided by the size of the active population (scaled by 100). This is surely a valid choice, but as we discussed one could argue for a different categorization.\n",
    "\n",
    "   Copy the map you have just created, but this time don't count in your statistics people who already have a job and are looking for a new one. How do your observations change ? You can repeat this with different choices of categories to see how selecting different metrics can lead to different interpretations of the same data.\n",
    "   \n",
    "   ### Importing the data"
   ]
  },
  {
   "cell_type": "code",
   "execution_count": 95,
   "metadata": {
    "collapsed": true
   },
   "outputs": [],
   "source": [
    "path_CH_data='./dataCH/TauxDeChomageCH.csv'\n",
    "df=pd.read_csv(path_CH_data,encoding='utf_16le')\n",
    "df.drop('Grande région',axis=1,inplace=True)\n",
    "df.drop('Mois', axis=1, inplace=True)\n",
    "df.rename(columns={df.columns[1]:'Grande région'}, inplace=True)\n",
    "df.rename(columns={'Total': 'Taux de chômage', 'Total.1':'Chômeurs inscrits' , \n",
    "                   'Total.2':'Demandeurs d\\'emploi', 'Total.3':'Demandeurs d\\'emploi non chômeurs'}, inplace=True)\n",
    "cr=df[df.columns[[0,1,2,43,44,45,46]]]\n",
    "\n",
    "cr.drop(cr.index[0], inplace=True)\n",
    "s=cr['Taux de chômage'][2]\n",
    "cr['Taux de chômage']=cr['Taux de chômage'].astype(float)\n",
    "arr_df_names=cr.Canton.values\n",
    "cr.sort_values('Canton', inplace=True)"
   ]
  },
  {
   "cell_type": "markdown",
   "metadata": {},
   "source": [
    "### Unemployement metrics\n",
    "The current metric defining the unemployement rate is the number of people looking for a job over the total active population.\n",
    "However, we see that a non negligible part of the job seekers are not unemployed, meaning that they have a job, while they are looking for a better one.\n",
    "We will define a new metric which doesn't take into account the employed jobseekers.\n",
    "The formula to get this new rate would be \n",
    "new_rate=unemployed*old_rate/jobseekers \n",
    " \n",
    "\n",
    "First we start by matching the id's from the topojson file to the one of the data, and then we print the map.\n",
    "\n",
    "The map with the original rates can be seen here: [swiss unemployement rate](htmlGraphOutputs/swiss_unemployement.html)\n",
    "\n",
    "The map with the new calulated rates can be seen here: [swiss unemployement rate without employed jobseekers](htmlGraphOutputs/swissnew_unemployement.html)\n",
    "\n",
    "As before, the colors go from light red to red, red being the canton with the most unemployement. Comparing the new maps, we observe all cantons loose at least 1% of unemployement, and cantons like Fribourg and Valais have there unemployement rate divided by two."
   ]
  },
  {
   "cell_type": "code",
   "execution_count": 96,
   "metadata": {
    "collapsed": true,
    "scrolled": true
   },
   "outputs": [],
   "source": [
    "cr['Chômeurs inscrits']=series_str_to_float(cr['Chômeurs inscrits'])\n",
    "cr['Demandeurs d\\'emploi']=series_str_to_float(cr['Demandeurs d\\'emploi'])\n",
    "cr['Demandeurs d\\'emploi non chômeurs']=series_str_to_float(cr['Demandeurs d\\'emploi non chômeurs'])"
   ]
  },
  {
   "cell_type": "markdown",
   "metadata": {},
   "source": [
    "To match the ids, we sort the ids from the data and from the topojson file. This way most of the canton are already matched. For the ones that d not match we do the replacement by hand."
   ]
  },
  {
   "cell_type": "code",
   "execution_count": 97,
   "metadata": {
    "collapsed": true
   },
   "outputs": [],
   "source": [
    "lst_json_names=[ids['properties']['name'] for ids in ch_json_data['objects']['cantons']['geometries']]\n",
    "lst_json_names.sort()\n",
    "lst_df_names=arr_df_names.tolist()\n",
    "lst_df_names.remove(lst_df_names[26])\n",
    "lst_df_names.sort()\n",
    "df_name=pd.DataFrame(lst_df_names, lst_json_names)\n",
    "lst_json_names.append('Total')\n"
   ]
  },
  {
   "cell_type": "code",
   "execution_count": 98,
   "metadata": {
    "collapsed": true
   },
   "outputs": [],
   "source": [
    "cr['TradCanton']=lst_json_names\n"
   ]
  },
  {
   "cell_type": "code",
   "execution_count": 99,
   "metadata": {
    "collapsed": true
   },
   "outputs": [],
   "source": [
    "cr['Canton']=cr['TradCanton']\n",
    "def replace(idx1, idx2):\n",
    "    cr['Canton'][idx1]=cr['TradCanton'][idx2]\n",
    "\n",
    "replace(9,10)\n",
    "replace(10,5)\n",
    "replace(5,9)\n",
    "replace(1,3)\n",
    "replace(4,1)\n",
    "replace(3,4)\n",
    "replace(26,13)\n",
    "replace(13,26)\n",
    "\n"
   ]
  },
  {
   "cell_type": "code",
   "execution_count": 100,
   "metadata": {
    "collapsed": true
   },
   "outputs": [],
   "source": [
    "ch_map=folium.Map(location=[46, 7],zoom_start=6)\n",
    "ch_map.choropleth(geo_data=ch_json_data,topojson='objects.cantons', data=cr, columns=['Canton','Taux de chômage'],\n",
    "                 key_on='feature.properties.name', fill_color='OrRd', fill_opacity=0.8, line_opacity=0.6,\n",
    "             legend_name='Unemployement rate(%)')\n",
    "ch_map.save(HTML_PATH + \"swiss_unemployement.html\")\n"
   ]
  },
  {
   "cell_type": "markdown",
   "metadata": {},
   "source": [
    "Now we calculate the new rates using the formula discussed above"
   ]
  },
  {
   "cell_type": "code",
   "execution_count": 101,
   "metadata": {
    "collapsed": true,
    "scrolled": true
   },
   "outputs": [],
   "source": [
    "cr['New_Rate']=cr['Chômeurs inscrits']*cr['Taux de chômage']/cr['Demandeurs d\\'emploi']\n"
   ]
  },
  {
   "cell_type": "code",
   "execution_count": 102,
   "metadata": {
    "collapsed": true
   },
   "outputs": [],
   "source": [
    "new_ch_map=folium.Map(location=[46, 7],zoom_start=6)\n",
    "new_ch_map.choropleth(geo_data=ch_json_data,topojson='objects.cantons', data=cr, columns=['Canton','New_Rate'],\n",
    "                 key_on='feature.properties.name', fill_color='OrRd', fill_opacity=0.8, line_opacity=0.6,\n",
    "             legend_name='Unemployement rate(%)')\n",
    "new_ch_map.save(HTML_PATH + \"swissnew_unemployement.html\")"
   ]
  },
  {
   "cell_type": "markdown",
   "metadata": {},
   "source": [
    "## Question 3\n",
    " Use the [amstat](https://www.amstat.ch) website again to find a dataset that includes the unemployment rates in Switzerland at recent date, this time making a distinction between *Swiss* and *foreign* workers.\n",
    "\n",
    "   The Economic Secretary (SECO) releases [a monthly report](https://www.seco.admin.ch/seco/fr/home/Arbeit/Arbeitslosenversicherung/arbeitslosenzahlen.html) on the state of the employment market. In the latest report (September 2017), it is noted that there is a discrepancy between the unemployment rates for *foreign* (`5.1%`) and *Swiss* (`2.2%`) workers. \n",
    "\n",
    "   Show the difference in unemployment rates between the two categories in each canton on a Choropleth map (*hint* The easy way is to show two separate maps, but can you think of something better ?). Where are the differences most visible ? Why do you think that is ?\n",
    "\n",
    "   Now let's refine the analysis by adding the differences between age groups. As you may have guessed it is nearly impossible to plot so many variables on a map. Make a bar plot, which is a better suited visualization tool for this type of multivariate data.\n"
   ]
  },
  {
   "cell_type": "markdown",
   "metadata": {},
   "source": [
    "## Question 4 (Bonus)\n",
    "\n",
    " *BONUS*: using the map you have just built, and the geographical information contained in it, could you give a *rough estimate* of the difference in unemployment rates between the areas divided by the [RÃ¶stigraben](https://en.wikipedia.org/wiki/R%C3%B6stigraben)?"
   ]
  },
  {
   "cell_type": "code",
   "execution_count": null,
   "metadata": {
    "collapsed": true
   },
   "outputs": [],
   "source": []
  }
 ],
 "metadata": {
  "kernelspec": {
   "display_name": "Python 3",
   "language": "python",
   "name": "python3"
  },
  "language_info": {
   "codemirror_mode": {
    "name": "ipython",
    "version": 3
   },
   "file_extension": ".py",
   "mimetype": "text/x-python",
   "name": "python",
   "nbconvert_exporter": "python",
   "pygments_lexer": "ipython3",
   "version": "3.6.2"
  }
 },
 "nbformat": 4,
 "nbformat_minor": 2
}
