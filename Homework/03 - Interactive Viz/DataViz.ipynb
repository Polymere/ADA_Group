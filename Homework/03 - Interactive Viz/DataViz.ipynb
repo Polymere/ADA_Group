{
 "cells": [
  {
   "cell_type": "markdown",
   "metadata": {},
   "source": [
    "# 03 - Interactive Viz\n",
    "\n",
    "## Deadline\n",
    "\n",
    "Wednesday November 8th, 2017 at 11:59PM\n",
    "\n",
    "## Important Notes\n",
    "\n",
    "- Make sure you push on GitHub your Notebook with all the cells already evaluated\n",
    "- Note that maps do not render in a standard Github environment : you should export them to HTML and link them in your notebook.\n",
    "- Remember that `.csv` is not the only data format. Though they might require additional processing, some formats provide better encoding support.\n",
    "- Don't forget to add a textual description of your thought process, the assumptions you made, and the solution you plan to implement!\n",
    "- Please write all your comments in English, and use meaningful variable names in your code\n",
    "\n",
    "## Background\n",
    "\n",
    "In this homework we will be exploring interactive visualization, which is a key ingredient of many successful data visualizations (especially when it comes to infographics).\n",
    "\n",
    "Unemployment rates are major economic metrics and a matter of concern for governments around the world. Though its definition may seem straightforward at first glance (usually defined as the number of unemployed people divided by the active population), it can be tricky to define consistently. For example, one must define what exactly unemployed means : looking for a job ? Having declared their unemployment ? Currently without a job ? Should students or recent graduates be included ? We could also wonder what the active population is : everyone in an age category (e.g. `16-64`) ? Anyone interested by finding a job ? Though these questions may seem subtle, they can have a large impact on the interpretation of the results : `3%` unemployment doesn't mean much if we don't know who is included in this percentage. \n",
    "\n",
    "In this homework you will be dealing with two different datasets from the statistics offices of the European commission ([eurostat](http://ec.europa.eu/eurostat/data/database)) and the Swiss Confederation ([amstat](https://www.amstat.ch)). They provide a variety of datasets with plenty of information on many different statistics and demographics at their respective scales. Unfortunately, as is often the case is data analysis, these websites are not always straightforward to navigate. They may include a lot of obscure categories, not always be translated into your native language, have strange link structures, â€¦ Navigating this complexity is part of a data scientists' job : you will have to use a few tricks to get the right data for this homework.\n",
    "\n",
    "For the visualization part, install [Folium](https://github.com/python-visualization/folium) (*HINT*: it is not available in your standard Anaconda environment, therefore search on the Web how to install it easily!). Folium's `README` comes with very clear examples, and links to their own iPython Notebooks -- make good use of this information. For your own convenience, in this same directory you can already find two `.topojson` files, containing the geo-coordinates of \n",
    "\n",
    "- European countries (*liberal definition of EU*) (`topojson/europe.topojson.json`, [source](https://github.com/leakyMirror/map-of-europe))\n",
    "- Swiss cantons (`topojson/ch-cantons.topojson.json`) \n",
    "\n",
    "These will be used as an overlay on the Folium maps.\n"
   ]
  },
  {
   "cell_type": "code",
   "execution_count": 1,
   "metadata": {
    "collapsed": true
   },
   "outputs": [],
   "source": [
    "import os\n",
    "import pandas as pd\n",
    "import json\n",
    "import folium\n",
    "import re\n",
    "import numpy as np\n",
    "\n",
    "pd.options.mode.chained_assignment = None  # default='warn'"
   ]
  },
  {
   "cell_type": "markdown",
   "metadata": {},
   "source": [
    "# Assignment\n",
    "## Question 1\n",
    " Go to the [eurostat](http://ec.europa.eu/eurostat/data/database) website and try to find a dataset that includes the european unemployment rates at a recent date.\n",
    "\n",
    "   Use this data to build a [Choropleth map](https://en.wikipedia.org/wiki/Choropleth_map) which shows the unemployment rate in Europe at a country level. Think about [the colors you use](https://carto.com/academy/courses/intermediate-design/choose-colors-1/), how you decided to [split the intervals into data classes](http://gisgeography.com/choropleth-maps-data-classification/) or which interactions you could add in order to make the visualization intuitive and expressive. Compare Switzerland's unemployment rate to that of the rest of Europe.\n",
    "\n",
    "Choosen dataset lfsq_urgan "
   ]
  },
  {
   "cell_type": "markdown",
   "metadata": {},
   "source": [
    "### labels \n",
    "unit : all PC (percent)\n",
    "sex : M, F, T (trans ??)\n",
    "age : Yagelow-agehigh (as a range)\n",
    "citizen : ??\n"
   ]
  },
  {
   "cell_type": "code",
   "execution_count": 10,
   "metadata": {
    "collapsed": true
   },
   "outputs": [],
   "source": [
    "rate_filepath='./dataEurope/lfsa_urgan.tsv'\n",
    "number_filepath='./dataEurope/lfsa_ugan.tsv'\n",
    "\n",
    "def import_file(filepath):\n",
    "    df2=pd.read_table(filepath)\n",
    "    s=df2[df2.columns[0]]\n",
    "    df1=s.str.split(pat=',', expand=True)\n",
    "    df1.columns=('Unit', 'Sex', 'Age', 'Citizen', 'Country')\n",
    "    df2.drop(df2.columns[0],axis=1,inplace=True)\n",
    "    full_df=pd.concat([df1,df2], axis=1)\n",
    "    #Cleaning the series for the most recent entry (2016)\n",
    "    s_lastyear=full_df[full_df.columns[5]]\n",
    "    for idx in s_lastyear.index:\n",
    "        non_decimal = re.compile(r'[^\\d.]+')\n",
    "        s_lastyear[idx]=non_decimal.sub('',s_lastyear[idx])\n",
    "        try:\n",
    "            s_lastyear[idx]=float(s_lastyear[idx])\n",
    "        except:\n",
    "            s_lastyear[idx]=np.nan\n",
    "    return pd.concat([full_df[['Unit', 'Sex', 'Age', 'Citizen', 'Country']],s_lastyear],axis=1)\n",
    "\n",
    "df_rate=import_file(rate_filepath)\n",
    "df_rate.rename(columns={df_rate.columns[5]:'Rate'}, inplace=True)\n",
    "df_numb=import_file(number_filepath)\n",
    "df_numb.rename(columns={df_numb.columns[5]:'Thousands'}, inplace=True)"
   ]
  },
  {
   "cell_type": "code",
   "execution_count": 71,
   "metadata": {},
   "outputs": [],
   "source": [
    "df_both=pd.concat([df_rate,df_numb[df_numb.columns[5]]],axis=1)\n",
    "cropped1=df_both[df_both.Age=='Y15-74']\n",
    "cropped2=cropped1[cropped1.Sex=='T']\n",
    "cropped3=cropped2[cropped2.Citizen=='TOTAL']\n",
    "cropped3['Rate']\n",
    "test=pd.DataFrame({'Country': ['FR', 'CH'], 'Rate':[18,2]})"
   ]
  },
  {
   "cell_type": "code",
   "execution_count": 76,
   "metadata": {},
   "outputs": [],
   "source": [
    "m=folium.Map(location=[22.3, 6.66])\n",
    "path_EU='./topojson/europe.topojson.json'\n",
    "eu_json_data=json.load(open(path_EU))\n",
    "eu_map=folium.Map(location=[46, 7],zoom_start=3)\n",
    "eu_map.choropleth(geo_data=eu_json_data, data=cropped3, columns=['Country', 'Rate'],\n",
    "                 key_on='feature.id', fill_color='YlGn', fill_opacity=1, line_opacity=0.6,\n",
    "             legend_name='Unemployement rate(%)')"
   ]
  },
  {
   "cell_type": "markdown",
   "metadata": {},
   "source": [
    "## Question 2\n",
    "Go to the [amstat](https://www.amstat.ch) website to find a dataset that includes the unemployment rates in Switzerland at a recent date.\n",
    "\n",
    "   > *HINT* Go to the `details` tab to find the raw data you need. If you do not speak French, German or Italian, think of using free translation services to navigate your way through. \n",
    "\n",
    "   Use this data to build another Choropleth map, this time showing the unemployment rate at the level of swiss cantons. Again, try to make the map as expressive as possible, and comment on the trends you observe.\n",
    "\n",
    "   The Swiss Confederation defines the rates you have just plotted as the number of people looking for a job divided by the size of the active population (scaled by 100). This is surely a valid choice, but as we discussed one could argue for a different categorization.\n",
    "\n",
    "   Copy the map you have just created, but this time don't count in your statistics people who already have a job and are looking for a new one. How do your observations change ? You can repeat this with different choices of categories to see how selecting different metrics can lead to different interpretations of the same data."
   ]
  },
  {
   "cell_type": "markdown",
   "metadata": {},
   "source": [
    "## Question 3\n",
    " Use the [amstat](https://www.amstat.ch) website again to find a dataset that includes the unemployment rates in Switzerland at recent date, this time making a distinction between *Swiss* and *foreign* workers.\n",
    "\n",
    "   The Economic Secretary (SECO) releases [a monthly report](https://www.seco.admin.ch/seco/fr/home/Arbeit/Arbeitslosenversicherung/arbeitslosenzahlen.html) on the state of the employment market. In the latest report (September 2017), it is noted that there is a discrepancy between the unemployment rates for *foreign* (`5.1%`) and *Swiss* (`2.2%`) workers. \n",
    "\n",
    "   Show the difference in unemployment rates between the two categories in each canton on a Choropleth map (*hint* The easy way is to show two separate maps, but can you think of something better ?). Where are the differences most visible ? Why do you think that is ?\n",
    "\n",
    "   Now let's refine the analysis by adding the differences between age groups. As you may have guessed it is nearly impossible to plot so many variables on a map. Make a bar plot, which is a better suited visualization tool for this type of multivariate data.\n"
   ]
  },
  {
   "cell_type": "markdown",
   "metadata": {},
   "source": [
    "## Question 4 (Bonus)\n",
    "\n",
    " *BONUS*: using the map you have just built, and the geographical information contained in it, could you give a *rough estimate* of the difference in unemployment rates between the areas divided by the [RÃ¶stigraben](https://en.wikipedia.org/wiki/R%C3%B6stigraben)?"
   ]
  },
  {
   "cell_type": "code",
   "execution_count": null,
   "metadata": {
    "collapsed": true
   },
   "outputs": [],
   "source": []
  }
 ],
 "metadata": {
  "kernelspec": {
   "display_name": "Python [conda env:ada]",
   "language": "python",
   "name": "conda-env-ada-py"
  },
  "language_info": {
   "codemirror_mode": {
    "name": "ipython",
    "version": 3
   },
   "file_extension": ".py",
   "mimetype": "text/x-python",
   "name": "python",
   "nbconvert_exporter": "python",
   "pygments_lexer": "ipython3",
   "version": "3.5.4"
  }
 },
 "nbformat": 4,
 "nbformat_minor": 2
}
