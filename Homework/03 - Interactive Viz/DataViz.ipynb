{
 "cells": [
  {
   "cell_type": "markdown",
   "metadata": {},
   "source": [
    "# 03 - Interactive Viz\n",
    "\n",
    "## Deadline\n",
    "\n",
    "Wednesday November 8th, 2017 at 11:59PM\n"
   ]
  },
  {
   "cell_type": "code",
   "execution_count": 1,
   "metadata": {
    "collapsed": true
   },
   "outputs": [],
   "source": [
    "import os\n",
    "import pandas as pd\n",
    "import json\n",
    "import folium\n",
    "import re\n",
    "import numpy as np\n",
    "import branca\n",
    "\n",
    "pd.options.mode.chained_assignment = None  # default='warn'"
   ]
  },
  {
   "cell_type": "markdown",
   "metadata": {},
   "source": [
    "# Assignment\n",
    "## Question 1\n",
    " Go to the [eurostat](http://ec.europa.eu/eurostat/data/database) website and try to find a dataset that includes the european unemployment rates at a recent date.\n",
    "\n",
    "   Use this data to build a [Choropleth map](https://en.wikipedia.org/wiki/Choropleth_map) which shows the unemployment rate in Europe at a country level. Think about [the colors you use](https://carto.com/academy/courses/intermediate-design/choose-colors-1/), how you decided to [split the intervals into data classes](http://gisgeography.com/choropleth-maps-data-classification/) or which interactions you could add in order to make the visualization intuitive and expressive. Compare Switzerland's unemployment rate to that of the rest of Europe.\n",
    "\n"
   ]
  },
  {
   "cell_type": "code",
   "execution_count": 2,
   "metadata": {
    "collapsed": true
   },
   "outputs": [],
   "source": [
    "def series_str_to_float(s):\n",
    "    \"\"\"\n",
    "    Simple utility function to convert strings to floats\n",
    "    \"\"\"\n",
    "    for idx in s.index:\n",
    "        try:\n",
    "            non_decimal = re.compile(r'[^\\d.]+')\n",
    "            s[idx]=non_decimal.sub('',s[idx])\n",
    "        except:\n",
    "            pass\n",
    "        try:\n",
    "            s[idx]=float(s[idx])\n",
    "        except:\n",
    "            s[idx]=np.nan\n",
    "    return s"
   ]
  },
  {
   "cell_type": "markdown",
   "metadata": {},
   "source": [
    "### Data extraction\n",
    "First we extract the unemployement rates for 2016, and only consider the data for the full age span (15 to 74), both sexes (T), and the total citizen status regarding the country (TOTAL).\n",
    "The choices of these broad parameters allows us to take into account every unemployed person, but the rate does not take into account if the person are employable (min/max age to work) or looking for a job. As these parameters depends on each country rules we will carry on with our general approach.\n"
   ]
  },
  {
   "cell_type": "code",
   "execution_count": 3,
   "metadata": {
    "collapsed": true
   },
   "outputs": [],
   "source": [
    "rate_filepath='./dataEurope/lfsa_urgan.tsv'\n",
    "\n",
    "def import_file(filepath):\n",
    "    df2=pd.read_table(filepath)\n",
    "    s=df2[df2.columns[0]]\n",
    "    df1=s.str.split(pat=',', expand=True)\n",
    "    df1.columns=('Unit', 'Sex', 'Age', 'Citizen', 'Country')\n",
    "    df2.drop(df2.columns[0],axis=1,inplace=True)\n",
    "    full_df=pd.concat([df1,df2], axis=1)\n",
    "    #Cleaning the series for the most recent entry (2016)\n",
    "    s_lastyear=series_str_to_float(full_df[full_df.columns[5]])\n",
    "    return pd.concat([full_df[['Unit', 'Sex', 'Age', 'Citizen', 'Country']],s_lastyear],axis=1)\n",
    "\n",
    "df_rate=import_file(rate_filepath)\n",
    "df_rate.rename(columns={df_rate.columns[5]:'Rate'}, inplace=True)\n",
    "\n",
    "cropped1=df_rate[df_rate.Age=='Y15-74']\n",
    "cropped2=cropped1[cropped1.Sex=='T']\n",
    "cropped3=cropped2[cropped2.Citizen=='TOTAL']"
   ]
  },
  {
   "cell_type": "markdown",
   "metadata": {},
   "source": [
    "Now we can print the unemployement map in a html file [europeen_unemployement.html](https://rawgit.com/Polymere/ADA_Group/master/Homework/03 - Interactive Viz/htmlGraphOutputs/europeen_unemployement.html)\n",
    "\n",
    "Colors go from light red to red. Countries where the uneployement rate are missing for 2017 are colored in black. We can clearely see that Swizerland is part of the countries that have the lowest unemployement rate."
   ]
  },
  {
   "cell_type": "code",
   "execution_count": 4,
   "metadata": {
    "collapsed": true
   },
   "outputs": [],
   "source": [
    "HTML_PATH = \"htmlGraphOutputs/\""
   ]
  },
  {
   "cell_type": "code",
   "execution_count": 5,
   "metadata": {
    "collapsed": true
   },
   "outputs": [],
   "source": [
    "path_EU='./topojson/europe.topojson.json'\n",
    "eu_json_data=json.load(open(path_EU))\n",
    "eu_map=folium.Map(location=[46, 7],zoom_start=3)\n",
    "\n",
    "# Main Choropleth map\n",
    "eu_map.choropleth(\n",
    "    geo_data=eu_json_data,\n",
    "    topojson='objects.europe', \n",
    "    data=cropped3, \n",
    "    columns=['Country', 'Rate'],\n",
    "    key_on='feature.id', \n",
    "    fill_color='OrRd', \n",
    "    fill_opacity=0.8, \n",
    "    line_opacity=0.6,\n",
    "    legend_name='Unemployement rate(%)')\n",
    "\n",
    "# Aditive layer that blackens countries where the data is missing\n",
    "colorscale = branca.colormap.linear.OrRd.scale(0, np.max(cropped3['Rate']))\n",
    "country_index = cropped3.copy()\n",
    "country_index.index = cropped3['Country']\n",
    "\n",
    "def style_function(feature):\n",
    "    id_ = feature['id']\n",
    "    try:\n",
    "        color = colorscale(country_index.loc[id_]['Rate'])\n",
    "        fill_opacity = 0\n",
    "    except KeyError:\n",
    "        fill_opacity = 0.5\n",
    "        color = '#black'\n",
    "        \n",
    "    return {\n",
    "        'fillOpacity': fill_opacity,\n",
    "        'weight': 0,\n",
    "        'fillColor': color\n",
    "    }\n",
    "\n",
    "folium.TopoJson(\n",
    "    open(path_EU),\n",
    "    'objects.europe',\n",
    "    style_function=style_function\n",
    ").add_to(eu_map)\n",
    "\n",
    "eu_map.save(HTML_PATH + \"europeen_unemployement.html\")"
   ]
  },
  {
   "cell_type": "markdown",
   "metadata": {},
   "source": [
    "## Question 2\n",
    "Go to the [amstat](https://www.amstat.ch) website to find a dataset that includes the unemployment rates in Switzerland at a recent date.\n",
    "\n",
    "   > *HINT* Go to the `details` tab to find the raw data you need. If you do not speak French, German or Italian, think of using free translation services to navigate your way through. \n",
    "\n",
    "   Use this data to build another Choropleth map, this time showing the unemployment rate at the level of swiss cantons. Again, try to make the map as expressive as possible, and comment on the trends you observe.\n",
    "\n",
    "   The Swiss Confederation defines the rates you have just plotted as the number of people looking for a job divided by the size of the active population (scaled by 100). This is surely a valid choice, but as we discussed one could argue for a different categorization.\n",
    "\n",
    "   Copy the map you have just created, but this time don't count in your statistics people who already have a job and are looking for a new one. How do your observations change ? You can repeat this with different choices of categories to see how selecting different metrics can lead to different interpretations of the same data.\n",
    "   \n",
    "   ### Importing the data\n",
    "   We import the data, only considering the last columns where the yearly total is."
   ]
  },
  {
   "cell_type": "code",
   "execution_count": 6,
   "metadata": {
    "collapsed": true
   },
   "outputs": [],
   "source": [
    "path_CH_data='./dataCH/TauxDeChomageCH.csv'\n",
    "df=pd.read_csv(path_CH_data,encoding='utf_16le')\n",
    "df.drop('Grande région',axis=1,inplace=True)\n",
    "df.drop('Mois', axis=1, inplace=True)\n",
    "df.rename(columns={df.columns[1]:'Grande région'}, inplace=True)\n",
    "df.rename(columns={'Total': 'Taux de chômage', 'Total.1':'Chômeurs inscrits' , \n",
    "                   'Total.2':'Demandeurs d\\'emploi', 'Total.3':'Demandeurs d\\'emploi non chômeurs'}, inplace=True)\n",
    "\n",
    "cr=df[df.columns[[0,1,2,43,44,45,46]]]\n",
    "\n",
    "cr.drop(cr.index[0], inplace=True)\n"
   ]
  },
  {
   "cell_type": "markdown",
   "metadata": {},
   "source": [
    "### Unemployement metrics\n",
    "The current metric defining the unemployement rate is the number of people looking for a job over the total active population.\n",
    "However, we see that a non negligible part of the job seekers are not unemployed, meaning that they have a job, while they are looking for a better one.\n",
    "We will define a new metric which doesn't take into account the employed jobseekers.\n",
    "The formula to get this new rate would be \n",
    "new_rate=unemployed*old_rate/jobseekers \n",
    " \n",
    "\n",
    "First we start by matching the id's from the topojson file to the one of the data, and then we print the map.\n",
    "\n",
    "The map with the original rates can be seen here: [swiss unemployement rate](https://rawgit.com/Polymere/ADA_Group/master/Homework/03 - Interactive Viz/htmlGraphOutputs/swiss_unemployement.html)\n",
    "\n",
    "The map with the new calulated rates can be seen here: [swiss unemployement rate without employed jobseekers](https://rawgit.com/Polymere/ADA_Group/master/Homework/03 - Interactive Viz/htmlGraphOutputs/swissnew_unemployement.html)\n",
    "\n",
    "As before, the colors go from light red to red, red being the canton with the most unemployement. Comparing the new maps, we observe all cantons loose at least 1% of unemployement, and cantons like Fribourg and Valais have there unemployement rate divided by two."
   ]
  },
  {
   "cell_type": "code",
   "execution_count": 7,
   "metadata": {
    "collapsed": true,
    "scrolled": true
   },
   "outputs": [],
   "source": [
    "cr['Taux de chômage']=series_str_to_float(cr['Taux de chômage'])\n",
    "cr['Chômeurs inscrits']=series_str_to_float(cr['Chômeurs inscrits'])\n",
    "cr['Demandeurs d\\'emploi']=series_str_to_float(cr['Demandeurs d\\'emploi'])\n",
    "cr['Demandeurs d\\'emploi non chômeurs']=series_str_to_float(cr['Demandeurs d\\'emploi non chômeurs'])"
   ]
  },
  {
   "cell_type": "markdown",
   "metadata": {},
   "source": [
    "To match the ids, we sort the ids from the data and from the topojson file. This way most of the canton are already matched. For the ones that d not match we do the replacement by hand."
   ]
  },
  {
   "cell_type": "code",
   "execution_count": 8,
   "metadata": {
    "collapsed": true
   },
   "outputs": [],
   "source": [
    "path_CH='./topojson/ch-cantons.topojson.json'\n",
    "\n",
    "ch_json_data=json.load(open(path_CH))\n",
    "lst_json_names=[ids['properties']['name'] for ids in ch_json_data['objects']['cantons']['geometries']]\n",
    "lst_json_names.sort()\n",
    "\n",
    "cr.sort_values('Canton', inplace=True)\n",
    "lst_df_names=cr.Canton.values.tolist()\n",
    "lst_df_names.remove(lst_df_names[26])\n",
    "\n",
    "df_name=pd.DataFrame(lst_df_names, lst_json_names)"
   ]
  },
  {
   "cell_type": "code",
   "execution_count": 9,
   "metadata": {
    "collapsed": true
   },
   "outputs": [],
   "source": [
    "lst_json_names.append('Total')\n",
    "cr['TradCanton']=lst_json_names\n",
    "cr['Canton']=cr['TradCanton']\n",
    "\n",
    "def replace(idx1, idx2):\n",
    "    cr['Canton'][idx1]=cr['TradCanton'][idx2]\n",
    "\n",
    "replace(9,10)\n",
    "replace(10,5)\n",
    "replace(5,9)\n",
    "replace(1,3)\n",
    "replace(4,1)\n",
    "replace(3,4)\n",
    "replace(26,13)\n",
    "replace(13,26)"
   ]
  },
  {
   "cell_type": "code",
   "execution_count": 10,
   "metadata": {
    "collapsed": true
   },
   "outputs": [],
   "source": [
    "ch_map=folium.Map(location=[46, 7],zoom_start=6)\n",
    "ch_map.choropleth(geo_data=ch_json_data,topojson='objects.cantons', data=cr, columns=['Canton','Taux de chômage'],\n",
    "                 key_on='feature.properties.name', fill_color='OrRd', fill_opacity=0.8, line_opacity=0.6,\n",
    "             legend_name='Unemployement rate(%)')\n",
    "ch_map.save(HTML_PATH + \"swiss_unemployement.html\")"
   ]
  },
  {
   "cell_type": "markdown",
   "metadata": {},
   "source": [
    "Now we calculate the new rates using the formula discussed above"
   ]
  },
  {
   "cell_type": "code",
   "execution_count": 11,
   "metadata": {
    "collapsed": true,
    "scrolled": true
   },
   "outputs": [],
   "source": [
    "cr['New_Rate']=cr['Chômeurs inscrits']*cr['Taux de chômage']/cr['Demandeurs d\\'emploi']"
   ]
  },
  {
   "cell_type": "code",
   "execution_count": 12,
   "metadata": {
    "collapsed": true
   },
   "outputs": [],
   "source": [
    "new_ch_map=folium.Map(location=[46, 7],zoom_start=6)\n",
    "new_ch_map.choropleth(geo_data=ch_json_data,topojson='objects.cantons', data=cr, columns=['Canton','New_Rate'],\n",
    "                 key_on='feature.properties.name', fill_color='OrRd', fill_opacity=0.8, line_opacity=0.6,\n",
    "             legend_name='Unemployement rate(%)')\n",
    "new_ch_map.save(HTML_PATH + \"swissnew_unemployement.html\")"
   ]
  },
  {
   "cell_type": "markdown",
   "metadata": {},
   "source": [
    "## Question 3\n",
    " Use the [amstat](https://www.amstat.ch) website again to find a dataset that includes the unemployment rates in Switzerland at recent date, this time making a distinction between *Swiss* and *foreign* workers.\n",
    "\n",
    "   The Economic Secretary (SECO) releases [a monthly report](https://www.seco.admin.ch/seco/fr/home/Arbeit/Arbeitslosenversicherung/arbeitslosenzahlen.html) on the state of the employment market. In the latest report (September 2017), it is noted that there is a discrepancy between the unemployment rates for *foreign* (`5.1%`) and *Swiss* (`2.2%`) workers. \n",
    "\n",
    "   Show the difference in unemployment rates between the two categories in each canton on a Choropleth map (*hint* The easy way is to show two separate maps, but can you think of something better ?). Where are the differences most visible ? Why do you think that is ?\n",
    "\n",
    "   Now let's refine the analysis by adding the differences between age groups. As you may have guessed it is nearly impossible to plot so many variables on a map. Make a bar plot, which is a better suited visualization tool for this type of multivariate data.\n",
    "\n",
    "\n",
    "### Loading the data\n",
    "As in the previous question, we load the data and replace the names to match the names of the json file.\n"
   ]
  },
  {
   "cell_type": "code",
   "execution_count": 14,
   "metadata": {},
   "outputs": [],
   "source": [
    "path_CH_data='./dataCH/Arbeitslosenquoten_Herkunft.csv'\n",
    "df=pd.read_csv(path_CH_data,encoding='utf_16le')\n",
    "\n",
    "df.rename(columns={'Kanton': 'Canton', 'Nationalität': 'Nationalité',\n",
    "                   'Gesamt': 'Taux de chômage', 'Gesamt.1':'Chômeurs inscrits' , \n",
    "                   'Gesamt.2':'Demandeurs d\\'emploi', 'Gesamt.3':'Demandeurs d\\'emploi non chômeurs'}, inplace=True)\n",
    "\n",
    "cr = df[df.columns[[1, 2, 44, 45, 46, 47]]]\n",
    "cr.drop(cr.index[0], inplace=True)\n",
    "cr.sort_values(by=[\"Canton\", \"Nationalité\"], inplace=True)\n",
    "cr = cr[:-1] # Drop NaN value\n",
    "\n",
    "cr.replace(to_replace=\"Bern\", value=\"Bern/Berne\", inplace=True)\n",
    "cr.replace(to_replace=\"Freiburg\", value=\"Fribourg\", inplace=True)\n",
    "cr.replace(to_replace=\"Genf\", value=\"Genève\", inplace=True)\n",
    "cr.replace(to_replace=\"Graubünden\", value=\"Graubünden/Grigioni\", inplace=True)\n",
    "cr.replace(to_replace=\"Neuenburg\", value=\"Neuchâtel\", inplace=True)\n",
    "cr.replace(to_replace=\"Tessin\", value=\"Ticino\", inplace=True)\n",
    "cr.replace(to_replace=\"Waadt\", value=\"Vaud\", inplace=True)\n",
    "cr.replace(to_replace=\"Wallis\", value=\"Valais/Wallis\", inplace=True)\n",
    "\n",
    "cr['Taux de chômage']=series_str_to_float(cr['Taux de chômage'])\n",
    "cr['Chômeurs inscrits']=series_str_to_float(cr['Chômeurs inscrits'])\n",
    "cr['Demandeurs d\\'emploi']=series_str_to_float(cr['Demandeurs d\\'emploi'])\n",
    "cr['Demandeurs d\\'emploi non chômeurs']=series_str_to_float(cr['Demandeurs d\\'emploi non chômeurs'])\n"
   ]
  },
  {
   "cell_type": "markdown",
   "metadata": {},
   "source": [
    "### Plotting the differences\n",
    "We then select differentiate the rates for strangers and swiss and plot them in two different maps"
   ]
  },
  {
   "cell_type": "code",
   "execution_count": null,
   "metadata": {
    "collapsed": true
   },
   "outputs": [],
   "source": [
    "path_CH='./topojson/ch-cantons.topojson.json'\n",
    "\n",
    "ch_json_data=json.load(open(path_CH, encoding=\"utf-8\"))\n",
    "lst_json_names=[ids['properties']['name'] for ids in ch_json_data['objects']['cantons']['geometries']]\n",
    "lst_json_names.sort()\n",
    "\n",
    "cr.sort_values('Canton', inplace=True)\n",
    "lst_df_names=cr.Canton.values.tolist()\n",
    "lst_df_names.remove(lst_df_names[26])\n",
    "\n",
    "cr_swiss = cr[1::2]\n",
    "cr_foreigner = cr[::2]\n",
    "\n",
    "df_name_swiss=pd.DataFrame(lst_df_names[::2], lst_json_names)\n",
    "\n",
    "ch_map_swiss=folium.Map(location=[46, 7],zoom_start=6)\n",
    "ch_map_swiss.choropleth(geo_data=ch_json_data, topojson='objects.cantons', data=cr_swiss, columns=['Canton','Taux de chômage'],\n",
    "                 key_on='feature.properties.name', fill_color='OrRd', fill_opacity=0.8, line_opacity=0.6,\n",
    "             legend_name='Unemployement rate(%)')\n",
    "ch_map_swiss.save(HTML_PATH + \"swiss_unemployement_by_nationality_swiss.html\")\n",
    "\n",
    "\n",
    "\n",
    "df_name_etranger=pd.DataFrame(lst_df_names[::2], lst_json_names)\n",
    "\n",
    "\n",
    "ch_map_etranger=folium.Map(location=[46, 7],zoom_start=6)\n",
    "ch_map_etranger.choropleth(geo_data=ch_json_data, topojson='objects.cantons', data=cr_foreigner, columns=['Canton','Taux de chômage'],\n",
    "                 key_on='feature.properties.name', fill_color='OrRd', fill_opacity=0.8, line_opacity=0.6,\n",
    "             legend_name='Unemployement rate(%)')\n",
    "ch_map_etranger.save(HTML_PATH + \"swiss_unemployement_by_nationality_foreigner.html\")"
   ]
  },
  {
   "cell_type": "markdown",
   "metadata": {},
   "source": [
    "## Question 4 (Bonus)\n",
    "\n",
    " *BONUS*: using the map you have just built, and the geographical information contained in it, could you give a *rough estimate* of the difference in unemployment rates between the areas divided by the [RÃ¶stigraben](https://en.wikipedia.org/wiki/R%C3%B6stigraben)?"
   ]
  },
  {
   "cell_type": "code",
   "execution_count": null,
   "metadata": {
    "collapsed": true
   },
   "outputs": [],
   "source": []
  }
 ],
 "metadata": {
  "kernelspec": {
   "display_name": "Python [default]",
   "language": "python",
   "name": "python3"
  },
  "language_info": {
   "codemirror_mode": {
    "name": "ipython",
    "version": 3
   },
   "file_extension": ".py",
   "mimetype": "text/x-python",
   "name": "python",
   "nbconvert_exporter": "python",
   "pygments_lexer": "ipython3",
   "version": "3.5.4"
  }
 },
 "nbformat": 4,
 "nbformat_minor": 2
}
